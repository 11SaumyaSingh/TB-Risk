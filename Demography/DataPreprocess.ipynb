{
 "cells": [
  {
   "attachments": {},
   "cell_type": "markdown",
   "metadata": {},
   "source": [
    "This is a file for Data Preprocessing use only."
   ]
  },
  {
   "cell_type": "code",
   "execution_count": 274,
   "metadata": {},
   "outputs": [],
   "source": [
    "import pandas as pd \n",
    "import plotly.express as px"
   ]
  },
  {
   "cell_type": "code",
   "execution_count": 275,
   "metadata": {},
   "outputs": [
    {
     "data": {
      "text/html": [
       "<div>\n",
       "<style scoped>\n",
       "    .dataframe tbody tr th:only-of-type {\n",
       "        vertical-align: middle;\n",
       "    }\n",
       "\n",
       "    .dataframe tbody tr th {\n",
       "        vertical-align: top;\n",
       "    }\n",
       "\n",
       "    .dataframe thead th {\n",
       "        text-align: right;\n",
       "    }\n",
       "</style>\n",
       "<table border=\"1\" class=\"dataframe\">\n",
       "  <thead>\n",
       "    <tr style=\"text-align: right;\">\n",
       "      <th></th>\n",
       "      <th>SL. NO.</th>\n",
       "      <th>STATE_UT</th>\n",
       "      <th>POPULATION</th>\n",
       "      <th>AREA</th>\n",
       "      <th>DENSITY (2021)</th>\n",
       "    </tr>\n",
       "  </thead>\n",
       "  <tbody>\n",
       "    <tr>\n",
       "      <th>0</th>\n",
       "      <td>1</td>\n",
       "      <td>Uttar Pradesh</td>\n",
       "      <td>199812341</td>\n",
       "      <td>240928 km2 (93023 sq mi)</td>\n",
       "      <td>828/km2 (2140/sq mi)</td>\n",
       "    </tr>\n",
       "    <tr>\n",
       "      <th>1</th>\n",
       "      <td>2</td>\n",
       "      <td>Maharashtra</td>\n",
       "      <td>112374333</td>\n",
       "      <td>307713 km2 (118809 sq mi)</td>\n",
       "      <td>365/km2 (950/sq mi)</td>\n",
       "    </tr>\n",
       "    <tr>\n",
       "      <th>2</th>\n",
       "      <td>3</td>\n",
       "      <td>Bihar</td>\n",
       "      <td>104099452</td>\n",
       "      <td>94163 km2 (36357 sq mi)</td>\n",
       "      <td>1102/km2 (2850/sq mi)</td>\n",
       "    </tr>\n",
       "    <tr>\n",
       "      <th>3</th>\n",
       "      <td>4</td>\n",
       "      <td>West Bengal</td>\n",
       "      <td>91276115</td>\n",
       "      <td>88752 km2 (34267 sq mi)</td>\n",
       "      <td>1029/km2 (2670/sq mi)</td>\n",
       "    </tr>\n",
       "    <tr>\n",
       "      <th>4</th>\n",
       "      <td>5</td>\n",
       "      <td>Madhya Pradesh</td>\n",
       "      <td>72626809</td>\n",
       "      <td>308245 km2 (119014 sq mi)</td>\n",
       "      <td>236/km2 (610/sq mi)</td>\n",
       "    </tr>\n",
       "    <tr>\n",
       "      <th>5</th>\n",
       "      <td>6</td>\n",
       "      <td>Tamil Nadu</td>\n",
       "      <td>72147030</td>\n",
       "      <td>130058 km2 (50216 sq mi)</td>\n",
       "      <td>555/km2 (1440/sq mi)</td>\n",
       "    </tr>\n",
       "    <tr>\n",
       "      <th>6</th>\n",
       "      <td>7</td>\n",
       "      <td>Rajasthan</td>\n",
       "      <td>68548437</td>\n",
       "      <td>342239 km2 (132139 sq mi)</td>\n",
       "      <td>201/km2 (520/sq mi)</td>\n",
       "    </tr>\n",
       "    <tr>\n",
       "      <th>7</th>\n",
       "      <td>8</td>\n",
       "      <td>Karnataka</td>\n",
       "      <td>61095297</td>\n",
       "      <td>191791 km2 (74051 sq mi)</td>\n",
       "      <td>319/km2 (830/sq mi)</td>\n",
       "    </tr>\n",
       "    <tr>\n",
       "      <th>8</th>\n",
       "      <td>9</td>\n",
       "      <td>Gujarat</td>\n",
       "      <td>60439692</td>\n",
       "      <td>196024 km2 (75685 sq mi)</td>\n",
       "      <td>308/km2 (800/sq mi)</td>\n",
       "    </tr>\n",
       "    <tr>\n",
       "      <th>9</th>\n",
       "      <td>10</td>\n",
       "      <td>Andhra Pradesh</td>\n",
       "      <td>49577103</td>\n",
       "      <td>162968 km2 (62922 sq mi)</td>\n",
       "      <td>303/km2 (780/sq mi)</td>\n",
       "    </tr>\n",
       "    <tr>\n",
       "      <th>10</th>\n",
       "      <td>11</td>\n",
       "      <td>Odisha</td>\n",
       "      <td>41974218</td>\n",
       "      <td>155707 km2 (60119 sq mi)</td>\n",
       "      <td>269/km2 (700/sq mi)</td>\n",
       "    </tr>\n",
       "    <tr>\n",
       "      <th>11</th>\n",
       "      <td>12</td>\n",
       "      <td>Telangana</td>\n",
       "      <td>35003674</td>\n",
       "      <td>112077 km2 (43273 sq mi)</td>\n",
       "      <td>312/km2 (810/sq mi)</td>\n",
       "    </tr>\n",
       "    <tr>\n",
       "      <th>12</th>\n",
       "      <td>13</td>\n",
       "      <td>Kerala</td>\n",
       "      <td>33406061</td>\n",
       "      <td>38863 km2 (15005 sq mi)</td>\n",
       "      <td>859/km2 (2220/sq mi)</td>\n",
       "    </tr>\n",
       "    <tr>\n",
       "      <th>13</th>\n",
       "      <td>14</td>\n",
       "      <td>Jharkhand</td>\n",
       "      <td>32988134</td>\n",
       "      <td>79714 km2 (30778 sq mi)</td>\n",
       "      <td>414/km2 (1070/sq mi)</td>\n",
       "    </tr>\n",
       "    <tr>\n",
       "      <th>14</th>\n",
       "      <td>15</td>\n",
       "      <td>Assam</td>\n",
       "      <td>31205576</td>\n",
       "      <td>78438 km2 (30285 sq mi)</td>\n",
       "      <td>397/km2 (1030/sq mi)</td>\n",
       "    </tr>\n",
       "    <tr>\n",
       "      <th>15</th>\n",
       "      <td>16</td>\n",
       "      <td>Punjab</td>\n",
       "      <td>27743338</td>\n",
       "      <td>50362 km2 (19445 sq mi)</td>\n",
       "      <td>550/km2 (1400/sq mi)</td>\n",
       "    </tr>\n",
       "    <tr>\n",
       "      <th>16</th>\n",
       "      <td>17</td>\n",
       "      <td>Chhattisgarh</td>\n",
       "      <td>25545198</td>\n",
       "      <td>135191 km2 (52198 sq mi)</td>\n",
       "      <td>189/km2 (490/sq mi)</td>\n",
       "    </tr>\n",
       "    <tr>\n",
       "      <th>17</th>\n",
       "      <td>18</td>\n",
       "      <td>Haryana</td>\n",
       "      <td>25351462</td>\n",
       "      <td>44212 km2 (17070 sq mi)</td>\n",
       "      <td>573/km2 (1480/sq mi)</td>\n",
       "    </tr>\n",
       "    <tr>\n",
       "      <th>18</th>\n",
       "      <td>19</td>\n",
       "      <td>Uttarakhand</td>\n",
       "      <td>10086292</td>\n",
       "      <td>53483 km2 (20650 sq mi)</td>\n",
       "      <td>189/km2 (490/sq mi)</td>\n",
       "    </tr>\n",
       "    <tr>\n",
       "      <th>19</th>\n",
       "      <td>20</td>\n",
       "      <td>Himachal Pradesh</td>\n",
       "      <td>6864602</td>\n",
       "      <td>55673 km2 (21495 sq mi)</td>\n",
       "      <td>123/km2 (320/sq mi)</td>\n",
       "    </tr>\n",
       "    <tr>\n",
       "      <th>20</th>\n",
       "      <td>21</td>\n",
       "      <td>Tripura</td>\n",
       "      <td>3673917</td>\n",
       "      <td>10486 km2 (4049 sq mi)</td>\n",
       "      <td>350/km2 (910/sq mi)</td>\n",
       "    </tr>\n",
       "    <tr>\n",
       "      <th>21</th>\n",
       "      <td>22</td>\n",
       "      <td>Meghalaya</td>\n",
       "      <td>2966889</td>\n",
       "      <td>22429 km2 (8660 sq mi)</td>\n",
       "      <td>132/km2 (340/sq mi)</td>\n",
       "    </tr>\n",
       "    <tr>\n",
       "      <th>22</th>\n",
       "      <td>23</td>\n",
       "      <td>Manipur</td>\n",
       "      <td>2570390</td>\n",
       "      <td>22327 km2 (8621 sq mi)</td>\n",
       "      <td>122/km2 (320/sq mi)</td>\n",
       "    </tr>\n",
       "    <tr>\n",
       "      <th>23</th>\n",
       "      <td>24</td>\n",
       "      <td>Nagaland</td>\n",
       "      <td>1978502</td>\n",
       "      <td>16579 km2 (6401 sq mi)</td>\n",
       "      <td>119/km2 (310/sq mi)</td>\n",
       "    </tr>\n",
       "    <tr>\n",
       "      <th>24</th>\n",
       "      <td>25</td>\n",
       "      <td>Goa</td>\n",
       "      <td>1458545</td>\n",
       "      <td>3702 km2 (1429 sq mi)</td>\n",
       "      <td>394/km2 (1020/sq mi)</td>\n",
       "    </tr>\n",
       "    <tr>\n",
       "      <th>25</th>\n",
       "      <td>26</td>\n",
       "      <td>Arunachal Pradesh</td>\n",
       "      <td>1383727</td>\n",
       "      <td>83743 km2 (32333 sq mi)</td>\n",
       "      <td>17/km2 (44/sq mi)</td>\n",
       "    </tr>\n",
       "    <tr>\n",
       "      <th>26</th>\n",
       "      <td>27</td>\n",
       "      <td>Mizoram</td>\n",
       "      <td>1097206</td>\n",
       "      <td>21081 km2 (8139 sq mi)</td>\n",
       "      <td>52/km2 (130/sq mi)</td>\n",
       "    </tr>\n",
       "    <tr>\n",
       "      <th>27</th>\n",
       "      <td>28</td>\n",
       "      <td>Sikkim</td>\n",
       "      <td>610577</td>\n",
       "      <td>7096 km2 (2740 sq mi)</td>\n",
       "      <td>86/km2 (220/sq mi)</td>\n",
       "    </tr>\n",
       "    <tr>\n",
       "      <th>28</th>\n",
       "      <td>29</td>\n",
       "      <td>Delhi</td>\n",
       "      <td>16787941</td>\n",
       "      <td>1484 km2 (573 sq mi)</td>\n",
       "      <td>11297/km2 (29260/sq mi)</td>\n",
       "    </tr>\n",
       "    <tr>\n",
       "      <th>29</th>\n",
       "      <td>30</td>\n",
       "      <td>Jammu and Kashmir</td>\n",
       "      <td>12267032</td>\n",
       "      <td>125535 km2 (48469 sq mi)</td>\n",
       "      <td>98/km2 (250/sq mi)</td>\n",
       "    </tr>\n",
       "    <tr>\n",
       "      <th>30</th>\n",
       "      <td>31</td>\n",
       "      <td>Puducherry</td>\n",
       "      <td>1247953</td>\n",
       "      <td>479 km2 (185 sq mi)</td>\n",
       "      <td>2598/km2 (6730/sq mi)</td>\n",
       "    </tr>\n",
       "    <tr>\n",
       "      <th>31</th>\n",
       "      <td>32</td>\n",
       "      <td>Chandigarh</td>\n",
       "      <td>1055450</td>\n",
       "      <td>114 km2 (44 sq mi)</td>\n",
       "      <td>9252/km2 (23960/sq mi)</td>\n",
       "    </tr>\n",
       "    <tr>\n",
       "      <th>32</th>\n",
       "      <td>33</td>\n",
       "      <td>Andaman and Nicobar Islands</td>\n",
       "      <td>380581</td>\n",
       "      <td>8249 km2 (3185 sq mi)</td>\n",
       "      <td>46/km2 (120/sq mi)</td>\n",
       "    </tr>\n",
       "    <tr>\n",
       "      <th>33</th>\n",
       "      <td>34</td>\n",
       "      <td>Dadra and Nagar Haveli</td>\n",
       "      <td>343709</td>\n",
       "      <td>491 km2 (190 sq mi)</td>\n",
       "      <td>698/km2 (1810/sq mi)</td>\n",
       "    </tr>\n",
       "    <tr>\n",
       "      <th>34</th>\n",
       "      <td>35</td>\n",
       "      <td>Ladakh</td>\n",
       "      <td>274000</td>\n",
       "      <td>96701 km2 (37336 sq mi)</td>\n",
       "      <td>2.8/km2 (7.3/sq mi)</td>\n",
       "    </tr>\n",
       "    <tr>\n",
       "      <th>35</th>\n",
       "      <td>36</td>\n",
       "      <td>Daman and Diu</td>\n",
       "      <td>243247</td>\n",
       "      <td>112 km2 (43 sq mi)</td>\n",
       "      <td>2169/km2 (5620/sq mi)</td>\n",
       "    </tr>\n",
       "    <tr>\n",
       "      <th>36</th>\n",
       "      <td>37</td>\n",
       "      <td>Lakshadweep</td>\n",
       "      <td>64473</td>\n",
       "      <td>32 km2 (12 sq mi)</td>\n",
       "      <td>2013/km2 (5210/sq mi)</td>\n",
       "    </tr>\n",
       "    <tr>\n",
       "      <th>37</th>\n",
       "      <td>Total</td>\n",
       "      <td>India</td>\n",
       "      <td>1210569573</td>\n",
       "      <td>3287240 km2 (1269210 sq mi)</td>\n",
       "      <td>382/km2 (990/sq mi)</td>\n",
       "    </tr>\n",
       "  </tbody>\n",
       "</table>\n",
       "</div>"
      ],
      "text/plain": [
       "   SL. NO.                     STATE_UT  POPULATION  \\\n",
       "0        1                Uttar Pradesh   199812341   \n",
       "1        2                  Maharashtra   112374333   \n",
       "2        3                        Bihar   104099452   \n",
       "3        4                  West Bengal    91276115   \n",
       "4        5               Madhya Pradesh    72626809   \n",
       "5        6                   Tamil Nadu    72147030   \n",
       "6        7                    Rajasthan    68548437   \n",
       "7        8                    Karnataka    61095297   \n",
       "8        9                      Gujarat    60439692   \n",
       "9       10               Andhra Pradesh    49577103   \n",
       "10      11                       Odisha    41974218   \n",
       "11      12                    Telangana    35003674   \n",
       "12      13                       Kerala    33406061   \n",
       "13      14                    Jharkhand    32988134   \n",
       "14      15                        Assam    31205576   \n",
       "15      16                       Punjab    27743338   \n",
       "16      17                 Chhattisgarh    25545198   \n",
       "17      18                      Haryana    25351462   \n",
       "18      19                  Uttarakhand    10086292   \n",
       "19      20             Himachal Pradesh     6864602   \n",
       "20      21                      Tripura     3673917   \n",
       "21      22                    Meghalaya     2966889   \n",
       "22      23                      Manipur     2570390   \n",
       "23      24                     Nagaland     1978502   \n",
       "24      25                          Goa     1458545   \n",
       "25      26            Arunachal Pradesh     1383727   \n",
       "26      27                      Mizoram     1097206   \n",
       "27      28                       Sikkim      610577   \n",
       "28      29                        Delhi    16787941   \n",
       "29      30            Jammu and Kashmir    12267032   \n",
       "30      31                   Puducherry     1247953   \n",
       "31      32                   Chandigarh     1055450   \n",
       "32      33  Andaman and Nicobar Islands      380581   \n",
       "33      34       Dadra and Nagar Haveli      343709   \n",
       "34      35                       Ladakh      274000   \n",
       "35      36                Daman and Diu      243247   \n",
       "36      37                  Lakshadweep       64473   \n",
       "37   Total                        India  1210569573   \n",
       "\n",
       "                           AREA           DENSITY (2021)  \n",
       "0      240928 km2 (93023 sq mi)     828/km2 (2140/sq mi)  \n",
       "1     307713 km2 (118809 sq mi)      365/km2 (950/sq mi)  \n",
       "2       94163 km2 (36357 sq mi)    1102/km2 (2850/sq mi)  \n",
       "3       88752 km2 (34267 sq mi)    1029/km2 (2670/sq mi)  \n",
       "4     308245 km2 (119014 sq mi)      236/km2 (610/sq mi)  \n",
       "5      130058 km2 (50216 sq mi)     555/km2 (1440/sq mi)  \n",
       "6     342239 km2 (132139 sq mi)      201/km2 (520/sq mi)  \n",
       "7      191791 km2 (74051 sq mi)      319/km2 (830/sq mi)  \n",
       "8      196024 km2 (75685 sq mi)      308/km2 (800/sq mi)  \n",
       "9      162968 km2 (62922 sq mi)      303/km2 (780/sq mi)  \n",
       "10     155707 km2 (60119 sq mi)      269/km2 (700/sq mi)  \n",
       "11     112077 km2 (43273 sq mi)      312/km2 (810/sq mi)  \n",
       "12      38863 km2 (15005 sq mi)     859/km2 (2220/sq mi)  \n",
       "13      79714 km2 (30778 sq mi)     414/km2 (1070/sq mi)  \n",
       "14      78438 km2 (30285 sq mi)     397/km2 (1030/sq mi)  \n",
       "15      50362 km2 (19445 sq mi)     550/km2 (1400/sq mi)  \n",
       "16     135191 km2 (52198 sq mi)      189/km2 (490/sq mi)  \n",
       "17      44212 km2 (17070 sq mi)     573/km2 (1480/sq mi)  \n",
       "18      53483 km2 (20650 sq mi)      189/km2 (490/sq mi)  \n",
       "19      55673 km2 (21495 sq mi)      123/km2 (320/sq mi)  \n",
       "20       10486 km2 (4049 sq mi)      350/km2 (910/sq mi)  \n",
       "21       22429 km2 (8660 sq mi)      132/km2 (340/sq mi)  \n",
       "22       22327 km2 (8621 sq mi)      122/km2 (320/sq mi)  \n",
       "23       16579 km2 (6401 sq mi)      119/km2 (310/sq mi)  \n",
       "24        3702 km2 (1429 sq mi)     394/km2 (1020/sq mi)  \n",
       "25      83743 km2 (32333 sq mi)        17/km2 (44/sq mi)  \n",
       "26       21081 km2 (8139 sq mi)       52/km2 (130/sq mi)  \n",
       "27        7096 km2 (2740 sq mi)       86/km2 (220/sq mi)  \n",
       "28         1484 km2 (573 sq mi)  11297/km2 (29260/sq mi)  \n",
       "29     125535 km2 (48469 sq mi)       98/km2 (250/sq mi)  \n",
       "30          479 km2 (185 sq mi)    2598/km2 (6730/sq mi)  \n",
       "31           114 km2 (44 sq mi)   9252/km2 (23960/sq mi)  \n",
       "32        8249 km2 (3185 sq mi)       46/km2 (120/sq mi)  \n",
       "33          491 km2 (190 sq mi)     698/km2 (1810/sq mi)  \n",
       "34      96701 km2 (37336 sq mi)      2.8/km2 (7.3/sq mi)  \n",
       "35           112 km2 (43 sq mi)    2169/km2 (5620/sq mi)  \n",
       "36            32 km2 (12 sq mi)    2013/km2 (5210/sq mi)  \n",
       "37  3287240 km2 (1269210 sq mi)      382/km2 (990/sq mi)  "
      ]
     },
     "execution_count": 275,
     "metadata": {},
     "output_type": "execute_result"
    }
   ],
   "source": [
    "FilePath=\"Demography_2021.xlsx\"\n",
    "DemoFile=pd.read_excel(FilePath)\n",
    "DemoFile"
   ]
  },
  {
   "cell_type": "code",
   "execution_count": 276,
   "metadata": {},
   "outputs": [],
   "source": [
    "DemoFile=DemoFile.drop(axis=0,index=37) # Removed Last Row"
   ]
  },
  {
   "attachments": {},
   "cell_type": "markdown",
   "metadata": {},
   "source": [
    "Extract AREA and DENSITY without Units\n"
   ]
  },
  {
   "cell_type": "code",
   "execution_count": 277,
   "metadata": {},
   "outputs": [],
   "source": [
    "DemoFile[\"AREA\"] = DemoFile[\"AREA\"].apply(lambda x: x.split()[0])"
   ]
  },
  {
   "cell_type": "code",
   "execution_count": 278,
   "metadata": {},
   "outputs": [],
   "source": [
    "DemoFile[\"DENSITY (2021)\"] = DemoFile[\"DENSITY (2021)\"].apply(lambda y: y.split(\"/\")[0])"
   ]
  },
  {
   "cell_type": "code",
   "execution_count": 288,
   "metadata": {},
   "outputs": [
    {
     "data": {
      "text/html": [
       "<div>\n",
       "<style scoped>\n",
       "    .dataframe tbody tr th:only-of-type {\n",
       "        vertical-align: middle;\n",
       "    }\n",
       "\n",
       "    .dataframe tbody tr th {\n",
       "        vertical-align: top;\n",
       "    }\n",
       "\n",
       "    .dataframe thead th {\n",
       "        text-align: right;\n",
       "    }\n",
       "</style>\n",
       "<table border=\"1\" class=\"dataframe\">\n",
       "  <thead>\n",
       "    <tr style=\"text-align: right;\">\n",
       "      <th></th>\n",
       "      <th>SL. NO.</th>\n",
       "      <th>STATE_UT</th>\n",
       "      <th>POPULATION</th>\n",
       "      <th>AREA</th>\n",
       "      <th>DENSITY (2021)</th>\n",
       "      <th>DENSITY Scaling</th>\n",
       "      <th>AREA Scaling</th>\n",
       "    </tr>\n",
       "  </thead>\n",
       "  <tbody>\n",
       "    <tr>\n",
       "      <th>32</th>\n",
       "      <td>33</td>\n",
       "      <td>Andaman and Nicobar Islands</td>\n",
       "      <td>380581.0</td>\n",
       "      <td>8249.0</td>\n",
       "      <td>46.0</td>\n",
       "      <td>1.38</td>\n",
       "      <td>3.38</td>\n",
       "    </tr>\n",
       "    <tr>\n",
       "      <th>33</th>\n",
       "      <td>34</td>\n",
       "      <td>Dadra and Nagar Haveli</td>\n",
       "      <td>343709.0</td>\n",
       "      <td>491.0</td>\n",
       "      <td>698.0</td>\n",
       "      <td>7.09</td>\n",
       "      <td>1.13</td>\n",
       "    </tr>\n",
       "    <tr>\n",
       "      <th>34</th>\n",
       "      <td>35</td>\n",
       "      <td>Ladakh</td>\n",
       "      <td>274000.0</td>\n",
       "      <td>96701.0</td>\n",
       "      <td>2.8</td>\n",
       "      <td>1.00</td>\n",
       "      <td>28.97</td>\n",
       "    </tr>\n",
       "    <tr>\n",
       "      <th>35</th>\n",
       "      <td>36</td>\n",
       "      <td>Daman and Diu</td>\n",
       "      <td>243247.0</td>\n",
       "      <td>112.0</td>\n",
       "      <td>2169.0</td>\n",
       "      <td>19.99</td>\n",
       "      <td>1.02</td>\n",
       "    </tr>\n",
       "    <tr>\n",
       "      <th>36</th>\n",
       "      <td>37</td>\n",
       "      <td>Lakshadweep</td>\n",
       "      <td>64473.0</td>\n",
       "      <td>32.0</td>\n",
       "      <td>2013.0</td>\n",
       "      <td>18.62</td>\n",
       "      <td>1.00</td>\n",
       "    </tr>\n",
       "  </tbody>\n",
       "</table>\n",
       "</div>"
      ],
      "text/plain": [
       "   SL. NO.                     STATE_UT  POPULATION     AREA  DENSITY (2021)  \\\n",
       "32      33  Andaman and Nicobar Islands    380581.0   8249.0            46.0   \n",
       "33      34       Dadra and Nagar Haveli    343709.0    491.0           698.0   \n",
       "34      35                       Ladakh    274000.0  96701.0             2.8   \n",
       "35      36                Daman and Diu    243247.0    112.0          2169.0   \n",
       "36      37                  Lakshadweep     64473.0     32.0          2013.0   \n",
       "\n",
       "    DENSITY Scaling  AREA Scaling  \n",
       "32             1.38          3.38  \n",
       "33             7.09          1.13  \n",
       "34             1.00         28.97  \n",
       "35            19.99          1.02  \n",
       "36            18.62          1.00  "
      ]
     },
     "execution_count": 288,
     "metadata": {},
     "output_type": "execute_result"
    }
   ],
   "source": [
    "DemoFile.tail()"
   ]
  },
  {
   "cell_type": "code",
   "execution_count": 280,
   "metadata": {},
   "outputs": [],
   "source": [
    "DemoFile[\"DENSITY (2021)\"]=DemoFile[\"DENSITY (2021)\"].astype(float)\n",
    "DemoFile[\"AREA\"]=DemoFile[\"AREA\"].astype(float)\n",
    "DemoFile[\"POPULATION\"]=DemoFile[\"POPULATION\"].astype(float)"
   ]
  },
  {
   "cell_type": "code",
   "execution_count": 281,
   "metadata": {},
   "outputs": [
    {
     "name": "stdout",
     "output_type": "stream",
     "text": [
      "<class 'pandas.core.frame.DataFrame'>\n",
      "RangeIndex: 37 entries, 0 to 36\n",
      "Data columns (total 5 columns):\n",
      " #   Column          Non-Null Count  Dtype  \n",
      "---  ------          --------------  -----  \n",
      " 0   SL. NO.         37 non-null     object \n",
      " 1   STATE_UT        37 non-null     object \n",
      " 2   POPULATION      37 non-null     float64\n",
      " 3   AREA            37 non-null     float64\n",
      " 4   DENSITY (2021)  37 non-null     float64\n",
      "dtypes: float64(3), object(2)\n",
      "memory usage: 1.6+ KB\n"
     ]
    }
   ],
   "source": [
    "DemoFile.info()"
   ]
  },
  {
   "cell_type": "code",
   "execution_count": 282,
   "metadata": {},
   "outputs": [
    {
     "data": {
      "application/vnd.plotly.v1+json": {
       "config": {
        "plotlyServerURL": "https://plot.ly"
       },
       "data": [
        {
         "alignmentgroup": "True",
         "bingroup": "x",
         "histfunc": "sum",
         "hovertemplate": "STATE_UT=%{x}<br>sum of POPULATION=%{y}<extra></extra>",
         "legendgroup": "",
         "marker": {
          "color": "#636efa",
          "pattern": {
           "shape": ""
          }
         },
         "name": "",
         "offsetgroup": "",
         "orientation": "v",
         "showlegend": false,
         "type": "histogram",
         "x": [
          "Uttar Pradesh",
          "Maharashtra",
          "Bihar",
          "West Bengal",
          "Madhya Pradesh",
          "Tamil Nadu",
          "Rajasthan",
          "Karnataka",
          "Gujarat",
          "Andhra Pradesh",
          "Odisha",
          "Telangana",
          "Kerala",
          "Jharkhand",
          "Assam",
          "Punjab",
          "Chhattisgarh",
          "Haryana",
          "Uttarakhand",
          "Himachal Pradesh",
          "Tripura",
          "Meghalaya",
          "Manipur",
          "Nagaland",
          "Goa",
          "Arunachal Pradesh",
          "Mizoram",
          "Sikkim",
          "Delhi",
          "Jammu and Kashmir",
          "Puducherry",
          "Chandigarh",
          "Andaman and Nicobar Islands",
          "Dadra and Nagar Haveli",
          "Ladakh",
          "Daman and Diu",
          "Lakshadweep"
         ],
         "xaxis": "x",
         "y": [
          199812341,
          112374333,
          104099452,
          91276115,
          72626809,
          72147030,
          68548437,
          61095297,
          60439692,
          49577103,
          41974218,
          35003674,
          33406061,
          32988134,
          31205576,
          27743338,
          25545198,
          25351462,
          10086292,
          6864602,
          3673917,
          2966889,
          2570390,
          1978502,
          1458545,
          1383727,
          1097206,
          610577,
          16787941,
          12267032,
          1247953,
          1055450,
          380581,
          343709,
          274000,
          243247,
          64473
         ],
         "yaxis": "y"
        }
       ],
       "layout": {
        "barmode": "relative",
        "legend": {
         "tracegroupgap": 0
        },
        "margin": {
         "t": 60
        },
        "template": {
         "data": {
          "bar": [
           {
            "error_x": {
             "color": "#2a3f5f"
            },
            "error_y": {
             "color": "#2a3f5f"
            },
            "marker": {
             "line": {
              "color": "#E5ECF6",
              "width": 0.5
             },
             "pattern": {
              "fillmode": "overlay",
              "size": 10,
              "solidity": 0.2
             }
            },
            "type": "bar"
           }
          ],
          "barpolar": [
           {
            "marker": {
             "line": {
              "color": "#E5ECF6",
              "width": 0.5
             },
             "pattern": {
              "fillmode": "overlay",
              "size": 10,
              "solidity": 0.2
             }
            },
            "type": "barpolar"
           }
          ],
          "carpet": [
           {
            "aaxis": {
             "endlinecolor": "#2a3f5f",
             "gridcolor": "white",
             "linecolor": "white",
             "minorgridcolor": "white",
             "startlinecolor": "#2a3f5f"
            },
            "baxis": {
             "endlinecolor": "#2a3f5f",
             "gridcolor": "white",
             "linecolor": "white",
             "minorgridcolor": "white",
             "startlinecolor": "#2a3f5f"
            },
            "type": "carpet"
           }
          ],
          "choropleth": [
           {
            "colorbar": {
             "outlinewidth": 0,
             "ticks": ""
            },
            "type": "choropleth"
           }
          ],
          "contour": [
           {
            "colorbar": {
             "outlinewidth": 0,
             "ticks": ""
            },
            "colorscale": [
             [
              0,
              "#0d0887"
             ],
             [
              0.1111111111111111,
              "#46039f"
             ],
             [
              0.2222222222222222,
              "#7201a8"
             ],
             [
              0.3333333333333333,
              "#9c179e"
             ],
             [
              0.4444444444444444,
              "#bd3786"
             ],
             [
              0.5555555555555556,
              "#d8576b"
             ],
             [
              0.6666666666666666,
              "#ed7953"
             ],
             [
              0.7777777777777778,
              "#fb9f3a"
             ],
             [
              0.8888888888888888,
              "#fdca26"
             ],
             [
              1,
              "#f0f921"
             ]
            ],
            "type": "contour"
           }
          ],
          "contourcarpet": [
           {
            "colorbar": {
             "outlinewidth": 0,
             "ticks": ""
            },
            "type": "contourcarpet"
           }
          ],
          "heatmap": [
           {
            "colorbar": {
             "outlinewidth": 0,
             "ticks": ""
            },
            "colorscale": [
             [
              0,
              "#0d0887"
             ],
             [
              0.1111111111111111,
              "#46039f"
             ],
             [
              0.2222222222222222,
              "#7201a8"
             ],
             [
              0.3333333333333333,
              "#9c179e"
             ],
             [
              0.4444444444444444,
              "#bd3786"
             ],
             [
              0.5555555555555556,
              "#d8576b"
             ],
             [
              0.6666666666666666,
              "#ed7953"
             ],
             [
              0.7777777777777778,
              "#fb9f3a"
             ],
             [
              0.8888888888888888,
              "#fdca26"
             ],
             [
              1,
              "#f0f921"
             ]
            ],
            "type": "heatmap"
           }
          ],
          "heatmapgl": [
           {
            "colorbar": {
             "outlinewidth": 0,
             "ticks": ""
            },
            "colorscale": [
             [
              0,
              "#0d0887"
             ],
             [
              0.1111111111111111,
              "#46039f"
             ],
             [
              0.2222222222222222,
              "#7201a8"
             ],
             [
              0.3333333333333333,
              "#9c179e"
             ],
             [
              0.4444444444444444,
              "#bd3786"
             ],
             [
              0.5555555555555556,
              "#d8576b"
             ],
             [
              0.6666666666666666,
              "#ed7953"
             ],
             [
              0.7777777777777778,
              "#fb9f3a"
             ],
             [
              0.8888888888888888,
              "#fdca26"
             ],
             [
              1,
              "#f0f921"
             ]
            ],
            "type": "heatmapgl"
           }
          ],
          "histogram": [
           {
            "marker": {
             "pattern": {
              "fillmode": "overlay",
              "size": 10,
              "solidity": 0.2
             }
            },
            "type": "histogram"
           }
          ],
          "histogram2d": [
           {
            "colorbar": {
             "outlinewidth": 0,
             "ticks": ""
            },
            "colorscale": [
             [
              0,
              "#0d0887"
             ],
             [
              0.1111111111111111,
              "#46039f"
             ],
             [
              0.2222222222222222,
              "#7201a8"
             ],
             [
              0.3333333333333333,
              "#9c179e"
             ],
             [
              0.4444444444444444,
              "#bd3786"
             ],
             [
              0.5555555555555556,
              "#d8576b"
             ],
             [
              0.6666666666666666,
              "#ed7953"
             ],
             [
              0.7777777777777778,
              "#fb9f3a"
             ],
             [
              0.8888888888888888,
              "#fdca26"
             ],
             [
              1,
              "#f0f921"
             ]
            ],
            "type": "histogram2d"
           }
          ],
          "histogram2dcontour": [
           {
            "colorbar": {
             "outlinewidth": 0,
             "ticks": ""
            },
            "colorscale": [
             [
              0,
              "#0d0887"
             ],
             [
              0.1111111111111111,
              "#46039f"
             ],
             [
              0.2222222222222222,
              "#7201a8"
             ],
             [
              0.3333333333333333,
              "#9c179e"
             ],
             [
              0.4444444444444444,
              "#bd3786"
             ],
             [
              0.5555555555555556,
              "#d8576b"
             ],
             [
              0.6666666666666666,
              "#ed7953"
             ],
             [
              0.7777777777777778,
              "#fb9f3a"
             ],
             [
              0.8888888888888888,
              "#fdca26"
             ],
             [
              1,
              "#f0f921"
             ]
            ],
            "type": "histogram2dcontour"
           }
          ],
          "mesh3d": [
           {
            "colorbar": {
             "outlinewidth": 0,
             "ticks": ""
            },
            "type": "mesh3d"
           }
          ],
          "parcoords": [
           {
            "line": {
             "colorbar": {
              "outlinewidth": 0,
              "ticks": ""
             }
            },
            "type": "parcoords"
           }
          ],
          "pie": [
           {
            "automargin": true,
            "type": "pie"
           }
          ],
          "scatter": [
           {
            "fillpattern": {
             "fillmode": "overlay",
             "size": 10,
             "solidity": 0.2
            },
            "type": "scatter"
           }
          ],
          "scatter3d": [
           {
            "line": {
             "colorbar": {
              "outlinewidth": 0,
              "ticks": ""
             }
            },
            "marker": {
             "colorbar": {
              "outlinewidth": 0,
              "ticks": ""
             }
            },
            "type": "scatter3d"
           }
          ],
          "scattercarpet": [
           {
            "marker": {
             "colorbar": {
              "outlinewidth": 0,
              "ticks": ""
             }
            },
            "type": "scattercarpet"
           }
          ],
          "scattergeo": [
           {
            "marker": {
             "colorbar": {
              "outlinewidth": 0,
              "ticks": ""
             }
            },
            "type": "scattergeo"
           }
          ],
          "scattergl": [
           {
            "marker": {
             "colorbar": {
              "outlinewidth": 0,
              "ticks": ""
             }
            },
            "type": "scattergl"
           }
          ],
          "scattermapbox": [
           {
            "marker": {
             "colorbar": {
              "outlinewidth": 0,
              "ticks": ""
             }
            },
            "type": "scattermapbox"
           }
          ],
          "scatterpolar": [
           {
            "marker": {
             "colorbar": {
              "outlinewidth": 0,
              "ticks": ""
             }
            },
            "type": "scatterpolar"
           }
          ],
          "scatterpolargl": [
           {
            "marker": {
             "colorbar": {
              "outlinewidth": 0,
              "ticks": ""
             }
            },
            "type": "scatterpolargl"
           }
          ],
          "scatterternary": [
           {
            "marker": {
             "colorbar": {
              "outlinewidth": 0,
              "ticks": ""
             }
            },
            "type": "scatterternary"
           }
          ],
          "surface": [
           {
            "colorbar": {
             "outlinewidth": 0,
             "ticks": ""
            },
            "colorscale": [
             [
              0,
              "#0d0887"
             ],
             [
              0.1111111111111111,
              "#46039f"
             ],
             [
              0.2222222222222222,
              "#7201a8"
             ],
             [
              0.3333333333333333,
              "#9c179e"
             ],
             [
              0.4444444444444444,
              "#bd3786"
             ],
             [
              0.5555555555555556,
              "#d8576b"
             ],
             [
              0.6666666666666666,
              "#ed7953"
             ],
             [
              0.7777777777777778,
              "#fb9f3a"
             ],
             [
              0.8888888888888888,
              "#fdca26"
             ],
             [
              1,
              "#f0f921"
             ]
            ],
            "type": "surface"
           }
          ],
          "table": [
           {
            "cells": {
             "fill": {
              "color": "#EBF0F8"
             },
             "line": {
              "color": "white"
             }
            },
            "header": {
             "fill": {
              "color": "#C8D4E3"
             },
             "line": {
              "color": "white"
             }
            },
            "type": "table"
           }
          ]
         },
         "layout": {
          "annotationdefaults": {
           "arrowcolor": "#2a3f5f",
           "arrowhead": 0,
           "arrowwidth": 1
          },
          "autotypenumbers": "strict",
          "coloraxis": {
           "colorbar": {
            "outlinewidth": 0,
            "ticks": ""
           }
          },
          "colorscale": {
           "diverging": [
            [
             0,
             "#8e0152"
            ],
            [
             0.1,
             "#c51b7d"
            ],
            [
             0.2,
             "#de77ae"
            ],
            [
             0.3,
             "#f1b6da"
            ],
            [
             0.4,
             "#fde0ef"
            ],
            [
             0.5,
             "#f7f7f7"
            ],
            [
             0.6,
             "#e6f5d0"
            ],
            [
             0.7,
             "#b8e186"
            ],
            [
             0.8,
             "#7fbc41"
            ],
            [
             0.9,
             "#4d9221"
            ],
            [
             1,
             "#276419"
            ]
           ],
           "sequential": [
            [
             0,
             "#0d0887"
            ],
            [
             0.1111111111111111,
             "#46039f"
            ],
            [
             0.2222222222222222,
             "#7201a8"
            ],
            [
             0.3333333333333333,
             "#9c179e"
            ],
            [
             0.4444444444444444,
             "#bd3786"
            ],
            [
             0.5555555555555556,
             "#d8576b"
            ],
            [
             0.6666666666666666,
             "#ed7953"
            ],
            [
             0.7777777777777778,
             "#fb9f3a"
            ],
            [
             0.8888888888888888,
             "#fdca26"
            ],
            [
             1,
             "#f0f921"
            ]
           ],
           "sequentialminus": [
            [
             0,
             "#0d0887"
            ],
            [
             0.1111111111111111,
             "#46039f"
            ],
            [
             0.2222222222222222,
             "#7201a8"
            ],
            [
             0.3333333333333333,
             "#9c179e"
            ],
            [
             0.4444444444444444,
             "#bd3786"
            ],
            [
             0.5555555555555556,
             "#d8576b"
            ],
            [
             0.6666666666666666,
             "#ed7953"
            ],
            [
             0.7777777777777778,
             "#fb9f3a"
            ],
            [
             0.8888888888888888,
             "#fdca26"
            ],
            [
             1,
             "#f0f921"
            ]
           ]
          },
          "colorway": [
           "#636efa",
           "#EF553B",
           "#00cc96",
           "#ab63fa",
           "#FFA15A",
           "#19d3f3",
           "#FF6692",
           "#B6E880",
           "#FF97FF",
           "#FECB52"
          ],
          "font": {
           "color": "#2a3f5f"
          },
          "geo": {
           "bgcolor": "white",
           "lakecolor": "white",
           "landcolor": "#E5ECF6",
           "showlakes": true,
           "showland": true,
           "subunitcolor": "white"
          },
          "hoverlabel": {
           "align": "left"
          },
          "hovermode": "closest",
          "mapbox": {
           "style": "light"
          },
          "paper_bgcolor": "white",
          "plot_bgcolor": "#E5ECF6",
          "polar": {
           "angularaxis": {
            "gridcolor": "white",
            "linecolor": "white",
            "ticks": ""
           },
           "bgcolor": "#E5ECF6",
           "radialaxis": {
            "gridcolor": "white",
            "linecolor": "white",
            "ticks": ""
           }
          },
          "scene": {
           "xaxis": {
            "backgroundcolor": "#E5ECF6",
            "gridcolor": "white",
            "gridwidth": 2,
            "linecolor": "white",
            "showbackground": true,
            "ticks": "",
            "zerolinecolor": "white"
           },
           "yaxis": {
            "backgroundcolor": "#E5ECF6",
            "gridcolor": "white",
            "gridwidth": 2,
            "linecolor": "white",
            "showbackground": true,
            "ticks": "",
            "zerolinecolor": "white"
           },
           "zaxis": {
            "backgroundcolor": "#E5ECF6",
            "gridcolor": "white",
            "gridwidth": 2,
            "linecolor": "white",
            "showbackground": true,
            "ticks": "",
            "zerolinecolor": "white"
           }
          },
          "shapedefaults": {
           "line": {
            "color": "#2a3f5f"
           }
          },
          "ternary": {
           "aaxis": {
            "gridcolor": "white",
            "linecolor": "white",
            "ticks": ""
           },
           "baxis": {
            "gridcolor": "white",
            "linecolor": "white",
            "ticks": ""
           },
           "bgcolor": "#E5ECF6",
           "caxis": {
            "gridcolor": "white",
            "linecolor": "white",
            "ticks": ""
           }
          },
          "title": {
           "x": 0.05
          },
          "xaxis": {
           "automargin": true,
           "gridcolor": "white",
           "linecolor": "white",
           "ticks": "",
           "title": {
            "standoff": 15
           },
           "zerolinecolor": "white",
           "zerolinewidth": 2
          },
          "yaxis": {
           "automargin": true,
           "gridcolor": "white",
           "linecolor": "white",
           "ticks": "",
           "title": {
            "standoff": 15
           },
           "zerolinecolor": "white",
           "zerolinewidth": 2
          }
         }
        },
        "xaxis": {
         "anchor": "y",
         "domain": [
          0,
          1
         ],
         "title": {
          "text": "STATE_UT"
         }
        },
        "yaxis": {
         "anchor": "x",
         "domain": [
          0,
          1
         ],
         "title": {
          "text": "sum of POPULATION"
         }
        }
       }
      }
     },
     "metadata": {},
     "output_type": "display_data"
    }
   ],
   "source": [
    "fig= px.histogram(DemoFile, x=\"STATE_UT\",y=\"POPULATION\")\n",
    "fig.show()"
   ]
  },
  {
   "cell_type": "code",
   "execution_count": 283,
   "metadata": {},
   "outputs": [
    {
     "data": {
      "application/vnd.plotly.v1+json": {
       "config": {
        "plotlyServerURL": "https://plot.ly"
       },
       "data": [
        {
         "alignmentgroup": "True",
         "bingroup": "x",
         "histfunc": "sum",
         "hovertemplate": "STATE_UT=%{x}<br>sum of DENSITY (2021)=%{y}<extra></extra>",
         "legendgroup": "",
         "marker": {
          "color": "#636efa",
          "pattern": {
           "shape": ""
          }
         },
         "name": "",
         "offsetgroup": "",
         "orientation": "v",
         "showlegend": false,
         "type": "histogram",
         "x": [
          "Uttar Pradesh",
          "Maharashtra",
          "Bihar",
          "West Bengal",
          "Madhya Pradesh",
          "Tamil Nadu",
          "Rajasthan",
          "Karnataka",
          "Gujarat",
          "Andhra Pradesh",
          "Odisha",
          "Telangana",
          "Kerala",
          "Jharkhand",
          "Assam",
          "Punjab",
          "Chhattisgarh",
          "Haryana",
          "Uttarakhand",
          "Himachal Pradesh",
          "Tripura",
          "Meghalaya",
          "Manipur",
          "Nagaland",
          "Goa",
          "Arunachal Pradesh",
          "Mizoram",
          "Sikkim",
          "Delhi",
          "Jammu and Kashmir",
          "Puducherry",
          "Chandigarh",
          "Andaman and Nicobar Islands",
          "Dadra and Nagar Haveli",
          "Ladakh",
          "Daman and Diu",
          "Lakshadweep"
         ],
         "xaxis": "x",
         "y": [
          828,
          365,
          1102,
          1029,
          236,
          555,
          201,
          319,
          308,
          303,
          269,
          312,
          859,
          414,
          397,
          550,
          189,
          573,
          189,
          123,
          350,
          132,
          122,
          119,
          394,
          17,
          52,
          86,
          11297,
          98,
          2598,
          9252,
          46,
          698,
          2.8,
          2169,
          2013
         ],
         "yaxis": "y"
        }
       ],
       "layout": {
        "barmode": "relative",
        "legend": {
         "tracegroupgap": 0
        },
        "margin": {
         "t": 60
        },
        "template": {
         "data": {
          "bar": [
           {
            "error_x": {
             "color": "#2a3f5f"
            },
            "error_y": {
             "color": "#2a3f5f"
            },
            "marker": {
             "line": {
              "color": "#E5ECF6",
              "width": 0.5
             },
             "pattern": {
              "fillmode": "overlay",
              "size": 10,
              "solidity": 0.2
             }
            },
            "type": "bar"
           }
          ],
          "barpolar": [
           {
            "marker": {
             "line": {
              "color": "#E5ECF6",
              "width": 0.5
             },
             "pattern": {
              "fillmode": "overlay",
              "size": 10,
              "solidity": 0.2
             }
            },
            "type": "barpolar"
           }
          ],
          "carpet": [
           {
            "aaxis": {
             "endlinecolor": "#2a3f5f",
             "gridcolor": "white",
             "linecolor": "white",
             "minorgridcolor": "white",
             "startlinecolor": "#2a3f5f"
            },
            "baxis": {
             "endlinecolor": "#2a3f5f",
             "gridcolor": "white",
             "linecolor": "white",
             "minorgridcolor": "white",
             "startlinecolor": "#2a3f5f"
            },
            "type": "carpet"
           }
          ],
          "choropleth": [
           {
            "colorbar": {
             "outlinewidth": 0,
             "ticks": ""
            },
            "type": "choropleth"
           }
          ],
          "contour": [
           {
            "colorbar": {
             "outlinewidth": 0,
             "ticks": ""
            },
            "colorscale": [
             [
              0,
              "#0d0887"
             ],
             [
              0.1111111111111111,
              "#46039f"
             ],
             [
              0.2222222222222222,
              "#7201a8"
             ],
             [
              0.3333333333333333,
              "#9c179e"
             ],
             [
              0.4444444444444444,
              "#bd3786"
             ],
             [
              0.5555555555555556,
              "#d8576b"
             ],
             [
              0.6666666666666666,
              "#ed7953"
             ],
             [
              0.7777777777777778,
              "#fb9f3a"
             ],
             [
              0.8888888888888888,
              "#fdca26"
             ],
             [
              1,
              "#f0f921"
             ]
            ],
            "type": "contour"
           }
          ],
          "contourcarpet": [
           {
            "colorbar": {
             "outlinewidth": 0,
             "ticks": ""
            },
            "type": "contourcarpet"
           }
          ],
          "heatmap": [
           {
            "colorbar": {
             "outlinewidth": 0,
             "ticks": ""
            },
            "colorscale": [
             [
              0,
              "#0d0887"
             ],
             [
              0.1111111111111111,
              "#46039f"
             ],
             [
              0.2222222222222222,
              "#7201a8"
             ],
             [
              0.3333333333333333,
              "#9c179e"
             ],
             [
              0.4444444444444444,
              "#bd3786"
             ],
             [
              0.5555555555555556,
              "#d8576b"
             ],
             [
              0.6666666666666666,
              "#ed7953"
             ],
             [
              0.7777777777777778,
              "#fb9f3a"
             ],
             [
              0.8888888888888888,
              "#fdca26"
             ],
             [
              1,
              "#f0f921"
             ]
            ],
            "type": "heatmap"
           }
          ],
          "heatmapgl": [
           {
            "colorbar": {
             "outlinewidth": 0,
             "ticks": ""
            },
            "colorscale": [
             [
              0,
              "#0d0887"
             ],
             [
              0.1111111111111111,
              "#46039f"
             ],
             [
              0.2222222222222222,
              "#7201a8"
             ],
             [
              0.3333333333333333,
              "#9c179e"
             ],
             [
              0.4444444444444444,
              "#bd3786"
             ],
             [
              0.5555555555555556,
              "#d8576b"
             ],
             [
              0.6666666666666666,
              "#ed7953"
             ],
             [
              0.7777777777777778,
              "#fb9f3a"
             ],
             [
              0.8888888888888888,
              "#fdca26"
             ],
             [
              1,
              "#f0f921"
             ]
            ],
            "type": "heatmapgl"
           }
          ],
          "histogram": [
           {
            "marker": {
             "pattern": {
              "fillmode": "overlay",
              "size": 10,
              "solidity": 0.2
             }
            },
            "type": "histogram"
           }
          ],
          "histogram2d": [
           {
            "colorbar": {
             "outlinewidth": 0,
             "ticks": ""
            },
            "colorscale": [
             [
              0,
              "#0d0887"
             ],
             [
              0.1111111111111111,
              "#46039f"
             ],
             [
              0.2222222222222222,
              "#7201a8"
             ],
             [
              0.3333333333333333,
              "#9c179e"
             ],
             [
              0.4444444444444444,
              "#bd3786"
             ],
             [
              0.5555555555555556,
              "#d8576b"
             ],
             [
              0.6666666666666666,
              "#ed7953"
             ],
             [
              0.7777777777777778,
              "#fb9f3a"
             ],
             [
              0.8888888888888888,
              "#fdca26"
             ],
             [
              1,
              "#f0f921"
             ]
            ],
            "type": "histogram2d"
           }
          ],
          "histogram2dcontour": [
           {
            "colorbar": {
             "outlinewidth": 0,
             "ticks": ""
            },
            "colorscale": [
             [
              0,
              "#0d0887"
             ],
             [
              0.1111111111111111,
              "#46039f"
             ],
             [
              0.2222222222222222,
              "#7201a8"
             ],
             [
              0.3333333333333333,
              "#9c179e"
             ],
             [
              0.4444444444444444,
              "#bd3786"
             ],
             [
              0.5555555555555556,
              "#d8576b"
             ],
             [
              0.6666666666666666,
              "#ed7953"
             ],
             [
              0.7777777777777778,
              "#fb9f3a"
             ],
             [
              0.8888888888888888,
              "#fdca26"
             ],
             [
              1,
              "#f0f921"
             ]
            ],
            "type": "histogram2dcontour"
           }
          ],
          "mesh3d": [
           {
            "colorbar": {
             "outlinewidth": 0,
             "ticks": ""
            },
            "type": "mesh3d"
           }
          ],
          "parcoords": [
           {
            "line": {
             "colorbar": {
              "outlinewidth": 0,
              "ticks": ""
             }
            },
            "type": "parcoords"
           }
          ],
          "pie": [
           {
            "automargin": true,
            "type": "pie"
           }
          ],
          "scatter": [
           {
            "fillpattern": {
             "fillmode": "overlay",
             "size": 10,
             "solidity": 0.2
            },
            "type": "scatter"
           }
          ],
          "scatter3d": [
           {
            "line": {
             "colorbar": {
              "outlinewidth": 0,
              "ticks": ""
             }
            },
            "marker": {
             "colorbar": {
              "outlinewidth": 0,
              "ticks": ""
             }
            },
            "type": "scatter3d"
           }
          ],
          "scattercarpet": [
           {
            "marker": {
             "colorbar": {
              "outlinewidth": 0,
              "ticks": ""
             }
            },
            "type": "scattercarpet"
           }
          ],
          "scattergeo": [
           {
            "marker": {
             "colorbar": {
              "outlinewidth": 0,
              "ticks": ""
             }
            },
            "type": "scattergeo"
           }
          ],
          "scattergl": [
           {
            "marker": {
             "colorbar": {
              "outlinewidth": 0,
              "ticks": ""
             }
            },
            "type": "scattergl"
           }
          ],
          "scattermapbox": [
           {
            "marker": {
             "colorbar": {
              "outlinewidth": 0,
              "ticks": ""
             }
            },
            "type": "scattermapbox"
           }
          ],
          "scatterpolar": [
           {
            "marker": {
             "colorbar": {
              "outlinewidth": 0,
              "ticks": ""
             }
            },
            "type": "scatterpolar"
           }
          ],
          "scatterpolargl": [
           {
            "marker": {
             "colorbar": {
              "outlinewidth": 0,
              "ticks": ""
             }
            },
            "type": "scatterpolargl"
           }
          ],
          "scatterternary": [
           {
            "marker": {
             "colorbar": {
              "outlinewidth": 0,
              "ticks": ""
             }
            },
            "type": "scatterternary"
           }
          ],
          "surface": [
           {
            "colorbar": {
             "outlinewidth": 0,
             "ticks": ""
            },
            "colorscale": [
             [
              0,
              "#0d0887"
             ],
             [
              0.1111111111111111,
              "#46039f"
             ],
             [
              0.2222222222222222,
              "#7201a8"
             ],
             [
              0.3333333333333333,
              "#9c179e"
             ],
             [
              0.4444444444444444,
              "#bd3786"
             ],
             [
              0.5555555555555556,
              "#d8576b"
             ],
             [
              0.6666666666666666,
              "#ed7953"
             ],
             [
              0.7777777777777778,
              "#fb9f3a"
             ],
             [
              0.8888888888888888,
              "#fdca26"
             ],
             [
              1,
              "#f0f921"
             ]
            ],
            "type": "surface"
           }
          ],
          "table": [
           {
            "cells": {
             "fill": {
              "color": "#EBF0F8"
             },
             "line": {
              "color": "white"
             }
            },
            "header": {
             "fill": {
              "color": "#C8D4E3"
             },
             "line": {
              "color": "white"
             }
            },
            "type": "table"
           }
          ]
         },
         "layout": {
          "annotationdefaults": {
           "arrowcolor": "#2a3f5f",
           "arrowhead": 0,
           "arrowwidth": 1
          },
          "autotypenumbers": "strict",
          "coloraxis": {
           "colorbar": {
            "outlinewidth": 0,
            "ticks": ""
           }
          },
          "colorscale": {
           "diverging": [
            [
             0,
             "#8e0152"
            ],
            [
             0.1,
             "#c51b7d"
            ],
            [
             0.2,
             "#de77ae"
            ],
            [
             0.3,
             "#f1b6da"
            ],
            [
             0.4,
             "#fde0ef"
            ],
            [
             0.5,
             "#f7f7f7"
            ],
            [
             0.6,
             "#e6f5d0"
            ],
            [
             0.7,
             "#b8e186"
            ],
            [
             0.8,
             "#7fbc41"
            ],
            [
             0.9,
             "#4d9221"
            ],
            [
             1,
             "#276419"
            ]
           ],
           "sequential": [
            [
             0,
             "#0d0887"
            ],
            [
             0.1111111111111111,
             "#46039f"
            ],
            [
             0.2222222222222222,
             "#7201a8"
            ],
            [
             0.3333333333333333,
             "#9c179e"
            ],
            [
             0.4444444444444444,
             "#bd3786"
            ],
            [
             0.5555555555555556,
             "#d8576b"
            ],
            [
             0.6666666666666666,
             "#ed7953"
            ],
            [
             0.7777777777777778,
             "#fb9f3a"
            ],
            [
             0.8888888888888888,
             "#fdca26"
            ],
            [
             1,
             "#f0f921"
            ]
           ],
           "sequentialminus": [
            [
             0,
             "#0d0887"
            ],
            [
             0.1111111111111111,
             "#46039f"
            ],
            [
             0.2222222222222222,
             "#7201a8"
            ],
            [
             0.3333333333333333,
             "#9c179e"
            ],
            [
             0.4444444444444444,
             "#bd3786"
            ],
            [
             0.5555555555555556,
             "#d8576b"
            ],
            [
             0.6666666666666666,
             "#ed7953"
            ],
            [
             0.7777777777777778,
             "#fb9f3a"
            ],
            [
             0.8888888888888888,
             "#fdca26"
            ],
            [
             1,
             "#f0f921"
            ]
           ]
          },
          "colorway": [
           "#636efa",
           "#EF553B",
           "#00cc96",
           "#ab63fa",
           "#FFA15A",
           "#19d3f3",
           "#FF6692",
           "#B6E880",
           "#FF97FF",
           "#FECB52"
          ],
          "font": {
           "color": "#2a3f5f"
          },
          "geo": {
           "bgcolor": "white",
           "lakecolor": "white",
           "landcolor": "#E5ECF6",
           "showlakes": true,
           "showland": true,
           "subunitcolor": "white"
          },
          "hoverlabel": {
           "align": "left"
          },
          "hovermode": "closest",
          "mapbox": {
           "style": "light"
          },
          "paper_bgcolor": "white",
          "plot_bgcolor": "#E5ECF6",
          "polar": {
           "angularaxis": {
            "gridcolor": "white",
            "linecolor": "white",
            "ticks": ""
           },
           "bgcolor": "#E5ECF6",
           "radialaxis": {
            "gridcolor": "white",
            "linecolor": "white",
            "ticks": ""
           }
          },
          "scene": {
           "xaxis": {
            "backgroundcolor": "#E5ECF6",
            "gridcolor": "white",
            "gridwidth": 2,
            "linecolor": "white",
            "showbackground": true,
            "ticks": "",
            "zerolinecolor": "white"
           },
           "yaxis": {
            "backgroundcolor": "#E5ECF6",
            "gridcolor": "white",
            "gridwidth": 2,
            "linecolor": "white",
            "showbackground": true,
            "ticks": "",
            "zerolinecolor": "white"
           },
           "zaxis": {
            "backgroundcolor": "#E5ECF6",
            "gridcolor": "white",
            "gridwidth": 2,
            "linecolor": "white",
            "showbackground": true,
            "ticks": "",
            "zerolinecolor": "white"
           }
          },
          "shapedefaults": {
           "line": {
            "color": "#2a3f5f"
           }
          },
          "ternary": {
           "aaxis": {
            "gridcolor": "white",
            "linecolor": "white",
            "ticks": ""
           },
           "baxis": {
            "gridcolor": "white",
            "linecolor": "white",
            "ticks": ""
           },
           "bgcolor": "#E5ECF6",
           "caxis": {
            "gridcolor": "white",
            "linecolor": "white",
            "ticks": ""
           }
          },
          "title": {
           "x": 0.05
          },
          "xaxis": {
           "automargin": true,
           "gridcolor": "white",
           "linecolor": "white",
           "ticks": "",
           "title": {
            "standoff": 15
           },
           "zerolinecolor": "white",
           "zerolinewidth": 2
          },
          "yaxis": {
           "automargin": true,
           "gridcolor": "white",
           "linecolor": "white",
           "ticks": "",
           "title": {
            "standoff": 15
           },
           "zerolinecolor": "white",
           "zerolinewidth": 2
          }
         }
        },
        "xaxis": {
         "anchor": "y",
         "domain": [
          0,
          1
         ],
         "title": {
          "text": "STATE_UT"
         }
        },
        "yaxis": {
         "anchor": "x",
         "domain": [
          0,
          1
         ],
         "title": {
          "text": "sum of DENSITY (2021)"
         }
        }
       }
      }
     },
     "metadata": {},
     "output_type": "display_data"
    }
   ],
   "source": [
    "fig2= px.histogram(DemoFile, x=\"STATE_UT\",y=\"DENSITY (2021)\")\n",
    "fig2.show()"
   ]
  },
  {
   "cell_type": "code",
   "execution_count": 284,
   "metadata": {},
   "outputs": [],
   "source": [
    "import numpy as np\n",
    "\n",
    "def scaling(data):\n",
    "    # Sample data\n",
    "    data= np.array(data)\n",
    "\n",
    "    # Define the desired output range\n",
    "    output_min = 1\n",
    "    output_max = 100\n",
    "\n",
    "    # Calculate the minimum and maximum values of the data\n",
    "    data_min = np.min(data)\n",
    "    data_max = np.max(data)\n",
    "\n",
    "    # Perform min-max scaling\n",
    "    scaled_data = (data - data_min) * (output_max - output_min) / (data_max - data_min) + output_min\n",
    "\n",
    "    return scaled_data\n"
   ]
  },
  {
   "cell_type": "code",
   "execution_count": 285,
   "metadata": {},
   "outputs": [],
   "source": [
    "DemoFile[\"DENSITY Scaling\"]=np.round(scaling(DemoFile[\"DENSITY (2021)\"]),2)\n",
    "DemoFile[\"AREA Scaling\"]=np.round(scaling(DemoFile[\"AREA\"]),2)\n"
   ]
  },
  {
   "cell_type": "code",
   "execution_count": 286,
   "metadata": {},
   "outputs": [
    {
     "data": {
      "text/html": [
       "<div>\n",
       "<style scoped>\n",
       "    .dataframe tbody tr th:only-of-type {\n",
       "        vertical-align: middle;\n",
       "    }\n",
       "\n",
       "    .dataframe tbody tr th {\n",
       "        vertical-align: top;\n",
       "    }\n",
       "\n",
       "    .dataframe thead th {\n",
       "        text-align: right;\n",
       "    }\n",
       "</style>\n",
       "<table border=\"1\" class=\"dataframe\">\n",
       "  <thead>\n",
       "    <tr style=\"text-align: right;\">\n",
       "      <th></th>\n",
       "      <th>SL. NO.</th>\n",
       "      <th>STATE_UT</th>\n",
       "      <th>POPULATION</th>\n",
       "      <th>AREA</th>\n",
       "      <th>DENSITY (2021)</th>\n",
       "      <th>DENSITY Scaling</th>\n",
       "      <th>AREA Scaling</th>\n",
       "    </tr>\n",
       "  </thead>\n",
       "  <tbody>\n",
       "    <tr>\n",
       "      <th>0</th>\n",
       "      <td>1</td>\n",
       "      <td>Uttar Pradesh</td>\n",
       "      <td>199812341.0</td>\n",
       "      <td>240928.0</td>\n",
       "      <td>828.0</td>\n",
       "      <td>8.23</td>\n",
       "      <td>70.69</td>\n",
       "    </tr>\n",
       "    <tr>\n",
       "      <th>1</th>\n",
       "      <td>2</td>\n",
       "      <td>Maharashtra</td>\n",
       "      <td>112374333.0</td>\n",
       "      <td>307713.0</td>\n",
       "      <td>365.0</td>\n",
       "      <td>4.17</td>\n",
       "      <td>90.01</td>\n",
       "    </tr>\n",
       "    <tr>\n",
       "      <th>2</th>\n",
       "      <td>3</td>\n",
       "      <td>Bihar</td>\n",
       "      <td>104099452.0</td>\n",
       "      <td>94163.0</td>\n",
       "      <td>1102.0</td>\n",
       "      <td>10.64</td>\n",
       "      <td>28.23</td>\n",
       "    </tr>\n",
       "    <tr>\n",
       "      <th>3</th>\n",
       "      <td>4</td>\n",
       "      <td>West Bengal</td>\n",
       "      <td>91276115.0</td>\n",
       "      <td>88752.0</td>\n",
       "      <td>1029.0</td>\n",
       "      <td>10.00</td>\n",
       "      <td>26.67</td>\n",
       "    </tr>\n",
       "    <tr>\n",
       "      <th>4</th>\n",
       "      <td>5</td>\n",
       "      <td>Madhya Pradesh</td>\n",
       "      <td>72626809.0</td>\n",
       "      <td>308245.0</td>\n",
       "      <td>236.0</td>\n",
       "      <td>3.04</td>\n",
       "      <td>90.17</td>\n",
       "    </tr>\n",
       "    <tr>\n",
       "      <th>5</th>\n",
       "      <td>6</td>\n",
       "      <td>Tamil Nadu</td>\n",
       "      <td>72147030.0</td>\n",
       "      <td>130058.0</td>\n",
       "      <td>555.0</td>\n",
       "      <td>5.84</td>\n",
       "      <td>38.62</td>\n",
       "    </tr>\n",
       "    <tr>\n",
       "      <th>6</th>\n",
       "      <td>7</td>\n",
       "      <td>Rajasthan</td>\n",
       "      <td>68548437.0</td>\n",
       "      <td>342239.0</td>\n",
       "      <td>201.0</td>\n",
       "      <td>2.74</td>\n",
       "      <td>100.00</td>\n",
       "    </tr>\n",
       "    <tr>\n",
       "      <th>7</th>\n",
       "      <td>8</td>\n",
       "      <td>Karnataka</td>\n",
       "      <td>61095297.0</td>\n",
       "      <td>191791.0</td>\n",
       "      <td>319.0</td>\n",
       "      <td>3.77</td>\n",
       "      <td>56.48</td>\n",
       "    </tr>\n",
       "    <tr>\n",
       "      <th>8</th>\n",
       "      <td>9</td>\n",
       "      <td>Gujarat</td>\n",
       "      <td>60439692.0</td>\n",
       "      <td>196024.0</td>\n",
       "      <td>308.0</td>\n",
       "      <td>3.68</td>\n",
       "      <td>57.70</td>\n",
       "    </tr>\n",
       "    <tr>\n",
       "      <th>9</th>\n",
       "      <td>10</td>\n",
       "      <td>Andhra Pradesh</td>\n",
       "      <td>49577103.0</td>\n",
       "      <td>162968.0</td>\n",
       "      <td>303.0</td>\n",
       "      <td>3.63</td>\n",
       "      <td>48.14</td>\n",
       "    </tr>\n",
       "    <tr>\n",
       "      <th>10</th>\n",
       "      <td>11</td>\n",
       "      <td>Odisha</td>\n",
       "      <td>41974218.0</td>\n",
       "      <td>155707.0</td>\n",
       "      <td>269.0</td>\n",
       "      <td>3.33</td>\n",
       "      <td>46.04</td>\n",
       "    </tr>\n",
       "    <tr>\n",
       "      <th>11</th>\n",
       "      <td>12</td>\n",
       "      <td>Telangana</td>\n",
       "      <td>35003674.0</td>\n",
       "      <td>112077.0</td>\n",
       "      <td>312.0</td>\n",
       "      <td>3.71</td>\n",
       "      <td>33.41</td>\n",
       "    </tr>\n",
       "    <tr>\n",
       "      <th>12</th>\n",
       "      <td>13</td>\n",
       "      <td>Kerala</td>\n",
       "      <td>33406061.0</td>\n",
       "      <td>38863.0</td>\n",
       "      <td>859.0</td>\n",
       "      <td>8.51</td>\n",
       "      <td>12.23</td>\n",
       "    </tr>\n",
       "    <tr>\n",
       "      <th>13</th>\n",
       "      <td>14</td>\n",
       "      <td>Jharkhand</td>\n",
       "      <td>32988134.0</td>\n",
       "      <td>79714.0</td>\n",
       "      <td>414.0</td>\n",
       "      <td>4.60</td>\n",
       "      <td>24.05</td>\n",
       "    </tr>\n",
       "    <tr>\n",
       "      <th>14</th>\n",
       "      <td>15</td>\n",
       "      <td>Assam</td>\n",
       "      <td>31205576.0</td>\n",
       "      <td>78438.0</td>\n",
       "      <td>397.0</td>\n",
       "      <td>4.46</td>\n",
       "      <td>23.68</td>\n",
       "    </tr>\n",
       "    <tr>\n",
       "      <th>15</th>\n",
       "      <td>16</td>\n",
       "      <td>Punjab</td>\n",
       "      <td>27743338.0</td>\n",
       "      <td>50362.0</td>\n",
       "      <td>550.0</td>\n",
       "      <td>5.80</td>\n",
       "      <td>15.56</td>\n",
       "    </tr>\n",
       "    <tr>\n",
       "      <th>16</th>\n",
       "      <td>17</td>\n",
       "      <td>Chhattisgarh</td>\n",
       "      <td>25545198.0</td>\n",
       "      <td>135191.0</td>\n",
       "      <td>189.0</td>\n",
       "      <td>2.63</td>\n",
       "      <td>40.10</td>\n",
       "    </tr>\n",
       "    <tr>\n",
       "      <th>17</th>\n",
       "      <td>18</td>\n",
       "      <td>Haryana</td>\n",
       "      <td>25351462.0</td>\n",
       "      <td>44212.0</td>\n",
       "      <td>573.0</td>\n",
       "      <td>6.00</td>\n",
       "      <td>13.78</td>\n",
       "    </tr>\n",
       "    <tr>\n",
       "      <th>18</th>\n",
       "      <td>19</td>\n",
       "      <td>Uttarakhand</td>\n",
       "      <td>10086292.0</td>\n",
       "      <td>53483.0</td>\n",
       "      <td>189.0</td>\n",
       "      <td>2.63</td>\n",
       "      <td>16.46</td>\n",
       "    </tr>\n",
       "    <tr>\n",
       "      <th>19</th>\n",
       "      <td>20</td>\n",
       "      <td>Himachal Pradesh</td>\n",
       "      <td>6864602.0</td>\n",
       "      <td>55673.0</td>\n",
       "      <td>123.0</td>\n",
       "      <td>2.05</td>\n",
       "      <td>17.10</td>\n",
       "    </tr>\n",
       "    <tr>\n",
       "      <th>20</th>\n",
       "      <td>21</td>\n",
       "      <td>Tripura</td>\n",
       "      <td>3673917.0</td>\n",
       "      <td>10486.0</td>\n",
       "      <td>350.0</td>\n",
       "      <td>4.04</td>\n",
       "      <td>4.02</td>\n",
       "    </tr>\n",
       "    <tr>\n",
       "      <th>21</th>\n",
       "      <td>22</td>\n",
       "      <td>Meghalaya</td>\n",
       "      <td>2966889.0</td>\n",
       "      <td>22429.0</td>\n",
       "      <td>132.0</td>\n",
       "      <td>2.13</td>\n",
       "      <td>7.48</td>\n",
       "    </tr>\n",
       "    <tr>\n",
       "      <th>22</th>\n",
       "      <td>23</td>\n",
       "      <td>Manipur</td>\n",
       "      <td>2570390.0</td>\n",
       "      <td>22327.0</td>\n",
       "      <td>122.0</td>\n",
       "      <td>2.04</td>\n",
       "      <td>7.45</td>\n",
       "    </tr>\n",
       "    <tr>\n",
       "      <th>23</th>\n",
       "      <td>24</td>\n",
       "      <td>Nagaland</td>\n",
       "      <td>1978502.0</td>\n",
       "      <td>16579.0</td>\n",
       "      <td>119.0</td>\n",
       "      <td>2.02</td>\n",
       "      <td>5.79</td>\n",
       "    </tr>\n",
       "    <tr>\n",
       "      <th>24</th>\n",
       "      <td>25</td>\n",
       "      <td>Goa</td>\n",
       "      <td>1458545.0</td>\n",
       "      <td>3702.0</td>\n",
       "      <td>394.0</td>\n",
       "      <td>4.43</td>\n",
       "      <td>2.06</td>\n",
       "    </tr>\n",
       "    <tr>\n",
       "      <th>25</th>\n",
       "      <td>26</td>\n",
       "      <td>Arunachal Pradesh</td>\n",
       "      <td>1383727.0</td>\n",
       "      <td>83743.0</td>\n",
       "      <td>17.0</td>\n",
       "      <td>1.12</td>\n",
       "      <td>25.22</td>\n",
       "    </tr>\n",
       "    <tr>\n",
       "      <th>26</th>\n",
       "      <td>27</td>\n",
       "      <td>Mizoram</td>\n",
       "      <td>1097206.0</td>\n",
       "      <td>21081.0</td>\n",
       "      <td>52.0</td>\n",
       "      <td>1.43</td>\n",
       "      <td>7.09</td>\n",
       "    </tr>\n",
       "    <tr>\n",
       "      <th>27</th>\n",
       "      <td>28</td>\n",
       "      <td>Sikkim</td>\n",
       "      <td>610577.0</td>\n",
       "      <td>7096.0</td>\n",
       "      <td>86.0</td>\n",
       "      <td>1.73</td>\n",
       "      <td>3.04</td>\n",
       "    </tr>\n",
       "    <tr>\n",
       "      <th>28</th>\n",
       "      <td>29</td>\n",
       "      <td>Delhi</td>\n",
       "      <td>16787941.0</td>\n",
       "      <td>1484.0</td>\n",
       "      <td>11297.0</td>\n",
       "      <td>100.00</td>\n",
       "      <td>1.42</td>\n",
       "    </tr>\n",
       "    <tr>\n",
       "      <th>29</th>\n",
       "      <td>30</td>\n",
       "      <td>Jammu and Kashmir</td>\n",
       "      <td>12267032.0</td>\n",
       "      <td>125535.0</td>\n",
       "      <td>98.0</td>\n",
       "      <td>1.83</td>\n",
       "      <td>37.31</td>\n",
       "    </tr>\n",
       "    <tr>\n",
       "      <th>30</th>\n",
       "      <td>31</td>\n",
       "      <td>Puducherry</td>\n",
       "      <td>1247953.0</td>\n",
       "      <td>479.0</td>\n",
       "      <td>2598.0</td>\n",
       "      <td>23.75</td>\n",
       "      <td>1.13</td>\n",
       "    </tr>\n",
       "    <tr>\n",
       "      <th>31</th>\n",
       "      <td>32</td>\n",
       "      <td>Chandigarh</td>\n",
       "      <td>1055450.0</td>\n",
       "      <td>114.0</td>\n",
       "      <td>9252.0</td>\n",
       "      <td>82.07</td>\n",
       "      <td>1.02</td>\n",
       "    </tr>\n",
       "    <tr>\n",
       "      <th>32</th>\n",
       "      <td>33</td>\n",
       "      <td>Andaman and Nicobar Islands</td>\n",
       "      <td>380581.0</td>\n",
       "      <td>8249.0</td>\n",
       "      <td>46.0</td>\n",
       "      <td>1.38</td>\n",
       "      <td>3.38</td>\n",
       "    </tr>\n",
       "    <tr>\n",
       "      <th>33</th>\n",
       "      <td>34</td>\n",
       "      <td>Dadra and Nagar Haveli</td>\n",
       "      <td>343709.0</td>\n",
       "      <td>491.0</td>\n",
       "      <td>698.0</td>\n",
       "      <td>7.09</td>\n",
       "      <td>1.13</td>\n",
       "    </tr>\n",
       "    <tr>\n",
       "      <th>34</th>\n",
       "      <td>35</td>\n",
       "      <td>Ladakh</td>\n",
       "      <td>274000.0</td>\n",
       "      <td>96701.0</td>\n",
       "      <td>2.8</td>\n",
       "      <td>1.00</td>\n",
       "      <td>28.97</td>\n",
       "    </tr>\n",
       "    <tr>\n",
       "      <th>35</th>\n",
       "      <td>36</td>\n",
       "      <td>Daman and Diu</td>\n",
       "      <td>243247.0</td>\n",
       "      <td>112.0</td>\n",
       "      <td>2169.0</td>\n",
       "      <td>19.99</td>\n",
       "      <td>1.02</td>\n",
       "    </tr>\n",
       "    <tr>\n",
       "      <th>36</th>\n",
       "      <td>37</td>\n",
       "      <td>Lakshadweep</td>\n",
       "      <td>64473.0</td>\n",
       "      <td>32.0</td>\n",
       "      <td>2013.0</td>\n",
       "      <td>18.62</td>\n",
       "      <td>1.00</td>\n",
       "    </tr>\n",
       "  </tbody>\n",
       "</table>\n",
       "</div>"
      ],
      "text/plain": [
       "   SL. NO.                     STATE_UT   POPULATION      AREA  \\\n",
       "0        1                Uttar Pradesh  199812341.0  240928.0   \n",
       "1        2                  Maharashtra  112374333.0  307713.0   \n",
       "2        3                        Bihar  104099452.0   94163.0   \n",
       "3        4                  West Bengal   91276115.0   88752.0   \n",
       "4        5               Madhya Pradesh   72626809.0  308245.0   \n",
       "5        6                   Tamil Nadu   72147030.0  130058.0   \n",
       "6        7                    Rajasthan   68548437.0  342239.0   \n",
       "7        8                    Karnataka   61095297.0  191791.0   \n",
       "8        9                      Gujarat   60439692.0  196024.0   \n",
       "9       10               Andhra Pradesh   49577103.0  162968.0   \n",
       "10      11                       Odisha   41974218.0  155707.0   \n",
       "11      12                    Telangana   35003674.0  112077.0   \n",
       "12      13                       Kerala   33406061.0   38863.0   \n",
       "13      14                    Jharkhand   32988134.0   79714.0   \n",
       "14      15                        Assam   31205576.0   78438.0   \n",
       "15      16                       Punjab   27743338.0   50362.0   \n",
       "16      17                 Chhattisgarh   25545198.0  135191.0   \n",
       "17      18                      Haryana   25351462.0   44212.0   \n",
       "18      19                  Uttarakhand   10086292.0   53483.0   \n",
       "19      20             Himachal Pradesh    6864602.0   55673.0   \n",
       "20      21                      Tripura    3673917.0   10486.0   \n",
       "21      22                    Meghalaya    2966889.0   22429.0   \n",
       "22      23                      Manipur    2570390.0   22327.0   \n",
       "23      24                     Nagaland    1978502.0   16579.0   \n",
       "24      25                          Goa    1458545.0    3702.0   \n",
       "25      26            Arunachal Pradesh    1383727.0   83743.0   \n",
       "26      27                      Mizoram    1097206.0   21081.0   \n",
       "27      28                       Sikkim     610577.0    7096.0   \n",
       "28      29                        Delhi   16787941.0    1484.0   \n",
       "29      30            Jammu and Kashmir   12267032.0  125535.0   \n",
       "30      31                   Puducherry    1247953.0     479.0   \n",
       "31      32                   Chandigarh    1055450.0     114.0   \n",
       "32      33  Andaman and Nicobar Islands     380581.0    8249.0   \n",
       "33      34       Dadra and Nagar Haveli     343709.0     491.0   \n",
       "34      35                       Ladakh     274000.0   96701.0   \n",
       "35      36                Daman and Diu     243247.0     112.0   \n",
       "36      37                  Lakshadweep      64473.0      32.0   \n",
       "\n",
       "    DENSITY (2021)  DENSITY Scaling  AREA Scaling  \n",
       "0            828.0             8.23         70.69  \n",
       "1            365.0             4.17         90.01  \n",
       "2           1102.0            10.64         28.23  \n",
       "3           1029.0            10.00         26.67  \n",
       "4            236.0             3.04         90.17  \n",
       "5            555.0             5.84         38.62  \n",
       "6            201.0             2.74        100.00  \n",
       "7            319.0             3.77         56.48  \n",
       "8            308.0             3.68         57.70  \n",
       "9            303.0             3.63         48.14  \n",
       "10           269.0             3.33         46.04  \n",
       "11           312.0             3.71         33.41  \n",
       "12           859.0             8.51         12.23  \n",
       "13           414.0             4.60         24.05  \n",
       "14           397.0             4.46         23.68  \n",
       "15           550.0             5.80         15.56  \n",
       "16           189.0             2.63         40.10  \n",
       "17           573.0             6.00         13.78  \n",
       "18           189.0             2.63         16.46  \n",
       "19           123.0             2.05         17.10  \n",
       "20           350.0             4.04          4.02  \n",
       "21           132.0             2.13          7.48  \n",
       "22           122.0             2.04          7.45  \n",
       "23           119.0             2.02          5.79  \n",
       "24           394.0             4.43          2.06  \n",
       "25            17.0             1.12         25.22  \n",
       "26            52.0             1.43          7.09  \n",
       "27            86.0             1.73          3.04  \n",
       "28         11297.0           100.00          1.42  \n",
       "29            98.0             1.83         37.31  \n",
       "30          2598.0            23.75          1.13  \n",
       "31          9252.0            82.07          1.02  \n",
       "32            46.0             1.38          3.38  \n",
       "33           698.0             7.09          1.13  \n",
       "34             2.8             1.00         28.97  \n",
       "35          2169.0            19.99          1.02  \n",
       "36          2013.0            18.62          1.00  "
      ]
     },
     "execution_count": 286,
     "metadata": {},
     "output_type": "execute_result"
    }
   ],
   "source": [
    "DemoFile"
   ]
  },
  {
   "attachments": {},
   "cell_type": "markdown",
   "metadata": {},
   "source": [
    "Preprocessing is done🟢\n",
    "Let's Save the processed file."
   ]
  },
  {
   "cell_type": "code",
   "execution_count": 287,
   "metadata": {},
   "outputs": [],
   "source": [
    "DemoFile.to_csv(\"Demography_2021_MOD.csv\")"
   ]
  }
 ],
 "metadata": {
  "kernelspec": {
   "display_name": "Python 3",
   "language": "python",
   "name": "python3"
  },
  "language_info": {
   "codemirror_mode": {
    "name": "ipython",
    "version": 3
   },
   "file_extension": ".py",
   "mimetype": "text/x-python",
   "name": "python",
   "nbconvert_exporter": "python",
   "pygments_lexer": "ipython3",
   "version": "3.10.6"
  },
  "orig_nbformat": 4
 },
 "nbformat": 4,
 "nbformat_minor": 2
}
