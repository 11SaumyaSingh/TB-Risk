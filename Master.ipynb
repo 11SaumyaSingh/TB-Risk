{
 "cells": [
  {
   "cell_type": "code",
   "execution_count": 17,
   "metadata": {},
   "outputs": [],
   "source": [
    "import pandas as pd\n",
    "import numpy as np\n",
    "import plotly.express as px\n",
    "import seaborn as sns\n",
    "import matplotlib.pyplot as plt"
   ]
  },
  {
   "cell_type": "code",
   "execution_count": 18,
   "metadata": {},
   "outputs": [
    {
     "data": {
      "text/html": [
       "<div>\n",
       "<style scoped>\n",
       "    .dataframe tbody tr th:only-of-type {\n",
       "        vertical-align: middle;\n",
       "    }\n",
       "\n",
       "    .dataframe tbody tr th {\n",
       "        vertical-align: top;\n",
       "    }\n",
       "\n",
       "    .dataframe thead th {\n",
       "        text-align: right;\n",
       "    }\n",
       "</style>\n",
       "<table border=\"1\" class=\"dataframe\">\n",
       "  <thead>\n",
       "    <tr style=\"text-align: right;\">\n",
       "      <th></th>\n",
       "      <th>State_UT</th>\n",
       "      <th>Type</th>\n",
       "      <th>POPULATION</th>\n",
       "      <th>AREA</th>\n",
       "      <th>DENSITY (2021)</th>\n",
       "      <th>DENSITY Scaling</th>\n",
       "      <th>AREA Scaling</th>\n",
       "      <th>Health_Index</th>\n",
       "      <th>HIV_Cases</th>\n",
       "      <th>HIV_Cases_Scaling</th>\n",
       "      <th>TB_Cases</th>\n",
       "      <th>TB_Cases_Scaling</th>\n",
       "    </tr>\n",
       "    <tr>\n",
       "      <th>Code</th>\n",
       "      <th></th>\n",
       "      <th></th>\n",
       "      <th></th>\n",
       "      <th></th>\n",
       "      <th></th>\n",
       "      <th></th>\n",
       "      <th></th>\n",
       "      <th></th>\n",
       "      <th></th>\n",
       "      <th></th>\n",
       "      <th></th>\n",
       "      <th></th>\n",
       "    </tr>\n",
       "  </thead>\n",
       "  <tbody>\n",
       "    <tr>\n",
       "      <th>AN</th>\n",
       "      <td>Andaman and Nicobar Islands</td>\n",
       "      <td>UT</td>\n",
       "      <td>380581</td>\n",
       "      <td>8249</td>\n",
       "      <td>46.0</td>\n",
       "      <td>1.38</td>\n",
       "      <td>3.38</td>\n",
       "      <td>44.74</td>\n",
       "      <td>426.0</td>\n",
       "      <td>1.01</td>\n",
       "      <td>516</td>\n",
       "      <td>1.11</td>\n",
       "    </tr>\n",
       "    <tr>\n",
       "      <th>CH</th>\n",
       "      <td>Chandigarh</td>\n",
       "      <td>UT</td>\n",
       "      <td>1055450</td>\n",
       "      <td>114</td>\n",
       "      <td>9252.0</td>\n",
       "      <td>82.07</td>\n",
       "      <td>1.02</td>\n",
       "      <td>62.53</td>\n",
       "      <td>1921.0</td>\n",
       "      <td>1.05</td>\n",
       "      <td>3242</td>\n",
       "      <td>1.69</td>\n",
       "    </tr>\n",
       "    <tr>\n",
       "      <th>DNHDD</th>\n",
       "      <td>Dadra &amp; Nagar Haveli and Daman &amp; Diu</td>\n",
       "      <td>UT</td>\n",
       "      <td>586956</td>\n",
       "      <td>603</td>\n",
       "      <td>973.0</td>\n",
       "      <td>9.50</td>\n",
       "      <td>1.17</td>\n",
       "      <td>66.20</td>\n",
       "      <td>1543.0</td>\n",
       "      <td>1.04</td>\n",
       "      <td>764</td>\n",
       "      <td>1.16</td>\n",
       "    </tr>\n",
       "    <tr>\n",
       "      <th>DL</th>\n",
       "      <td>Delhi</td>\n",
       "      <td>UT</td>\n",
       "      <td>16787941</td>\n",
       "      <td>1484</td>\n",
       "      <td>11297.0</td>\n",
       "      <td>100.00</td>\n",
       "      <td>1.42</td>\n",
       "      <td>49.84</td>\n",
       "      <td>55801.0</td>\n",
       "      <td>2.40</td>\n",
       "      <td>84302</td>\n",
       "      <td>18.95</td>\n",
       "    </tr>\n",
       "    <tr>\n",
       "      <th>LA</th>\n",
       "      <td>Ladakh</td>\n",
       "      <td>UT</td>\n",
       "      <td>274000</td>\n",
       "      <td>96701</td>\n",
       "      <td>2.8</td>\n",
       "      <td>1.00</td>\n",
       "      <td>28.97</td>\n",
       "      <td>NaN</td>\n",
       "      <td>142.0</td>\n",
       "      <td>1.00</td>\n",
       "      <td>319</td>\n",
       "      <td>1.06</td>\n",
       "    </tr>\n",
       "    <tr>\n",
       "      <th>LD</th>\n",
       "      <td>Lakshadweep Islands</td>\n",
       "      <td>UT</td>\n",
       "      <td>64473</td>\n",
       "      <td>32</td>\n",
       "      <td>2013.0</td>\n",
       "      <td>18.62</td>\n",
       "      <td>1.00</td>\n",
       "      <td>51.87</td>\n",
       "      <td>0.0</td>\n",
       "      <td>1.00</td>\n",
       "      <td>20</td>\n",
       "      <td>1.00</td>\n",
       "    </tr>\n",
       "    <tr>\n",
       "      <th>PY</th>\n",
       "      <td>Puducherry</td>\n",
       "      <td>UT</td>\n",
       "      <td>1247953</td>\n",
       "      <td>479</td>\n",
       "      <td>2598.0</td>\n",
       "      <td>23.75</td>\n",
       "      <td>1.13</td>\n",
       "      <td>50.83</td>\n",
       "      <td>3962.0</td>\n",
       "      <td>1.10</td>\n",
       "      <td>1409</td>\n",
       "      <td>1.30</td>\n",
       "    </tr>\n",
       "    <tr>\n",
       "      <th>AD</th>\n",
       "      <td>Andhra Pradesh</td>\n",
       "      <td>STATE</td>\n",
       "      <td>49577103</td>\n",
       "      <td>162968</td>\n",
       "      <td>303.0</td>\n",
       "      <td>3.63</td>\n",
       "      <td>48.14</td>\n",
       "      <td>69.95</td>\n",
       "      <td>NaN</td>\n",
       "      <td>NaN</td>\n",
       "      <td>87762</td>\n",
       "      <td>19.69</td>\n",
       "    </tr>\n",
       "    <tr>\n",
       "      <th>AR</th>\n",
       "      <td>Arunachal Pradesh</td>\n",
       "      <td>STATE</td>\n",
       "      <td>1383727</td>\n",
       "      <td>83743</td>\n",
       "      <td>17.0</td>\n",
       "      <td>1.12</td>\n",
       "      <td>25.22</td>\n",
       "      <td>33.92</td>\n",
       "      <td>686.0</td>\n",
       "      <td>1.02</td>\n",
       "      <td>2872</td>\n",
       "      <td>1.61</td>\n",
       "    </tr>\n",
       "    <tr>\n",
       "      <th>AS</th>\n",
       "      <td>Assam</td>\n",
       "      <td>STATE</td>\n",
       "      <td>31205576</td>\n",
       "      <td>78438</td>\n",
       "      <td>397.0</td>\n",
       "      <td>4.46</td>\n",
       "      <td>23.68</td>\n",
       "      <td>47.74</td>\n",
       "      <td>25073.0</td>\n",
       "      <td>1.63</td>\n",
       "      <td>37730</td>\n",
       "      <td>9.03</td>\n",
       "    </tr>\n",
       "    <tr>\n",
       "      <th>BR</th>\n",
       "      <td>Bihar</td>\n",
       "      <td>STATE</td>\n",
       "      <td>104099452</td>\n",
       "      <td>94163</td>\n",
       "      <td>1102.0</td>\n",
       "      <td>10.64</td>\n",
       "      <td>28.23</td>\n",
       "      <td>31.00</td>\n",
       "      <td>142793.0</td>\n",
       "      <td>4.58</td>\n",
       "      <td>135488</td>\n",
       "      <td>29.85</td>\n",
       "    </tr>\n",
       "    <tr>\n",
       "      <th>CG</th>\n",
       "      <td>Chhattisgarh</td>\n",
       "      <td>STATE</td>\n",
       "      <td>25545198</td>\n",
       "      <td>135191</td>\n",
       "      <td>189.0</td>\n",
       "      <td>2.63</td>\n",
       "      <td>40.10</td>\n",
       "      <td>50.70</td>\n",
       "      <td>39626.0</td>\n",
       "      <td>1.99</td>\n",
       "      <td>32615</td>\n",
       "      <td>7.94</td>\n",
       "    </tr>\n",
       "    <tr>\n",
       "      <th>GA</th>\n",
       "      <td>Goa</td>\n",
       "      <td>STATE</td>\n",
       "      <td>1458545</td>\n",
       "      <td>3702</td>\n",
       "      <td>394.0</td>\n",
       "      <td>4.43</td>\n",
       "      <td>2.06</td>\n",
       "      <td>53.68</td>\n",
       "      <td>4596.0</td>\n",
       "      <td>1.12</td>\n",
       "      <td>2038</td>\n",
       "      <td>1.43</td>\n",
       "    </tr>\n",
       "    <tr>\n",
       "      <th>GJ</th>\n",
       "      <td>Gujarat</td>\n",
       "      <td>STATE</td>\n",
       "      <td>60439692</td>\n",
       "      <td>196024</td>\n",
       "      <td>308.0</td>\n",
       "      <td>3.68</td>\n",
       "      <td>57.70</td>\n",
       "      <td>63.59</td>\n",
       "      <td>113532.0</td>\n",
       "      <td>3.85</td>\n",
       "      <td>141284</td>\n",
       "      <td>31.08</td>\n",
       "    </tr>\n",
       "    <tr>\n",
       "      <th>HR</th>\n",
       "      <td>Haryana</td>\n",
       "      <td>STATE</td>\n",
       "      <td>25351462</td>\n",
       "      <td>44212</td>\n",
       "      <td>573.0</td>\n",
       "      <td>6.00</td>\n",
       "      <td>13.78</td>\n",
       "      <td>49.26</td>\n",
       "      <td>49976.0</td>\n",
       "      <td>2.25</td>\n",
       "      <td>71253</td>\n",
       "      <td>16.17</td>\n",
       "    </tr>\n",
       "    <tr>\n",
       "      <th>HP</th>\n",
       "      <td>Himachal Pradesh</td>\n",
       "      <td>STATE</td>\n",
       "      <td>6864602</td>\n",
       "      <td>55673</td>\n",
       "      <td>123.0</td>\n",
       "      <td>2.05</td>\n",
       "      <td>17.10</td>\n",
       "      <td>63.17</td>\n",
       "      <td>7139.0</td>\n",
       "      <td>1.18</td>\n",
       "      <td>14797</td>\n",
       "      <td>4.15</td>\n",
       "    </tr>\n",
       "    <tr>\n",
       "      <th>JK</th>\n",
       "      <td>Jammu and Kashmir</td>\n",
       "      <td>STATE</td>\n",
       "      <td>12267032</td>\n",
       "      <td>125535</td>\n",
       "      <td>98.0</td>\n",
       "      <td>1.83</td>\n",
       "      <td>37.31</td>\n",
       "      <td>46.99</td>\n",
       "      <td>6385.0</td>\n",
       "      <td>1.16</td>\n",
       "      <td>11005</td>\n",
       "      <td>3.34</td>\n",
       "    </tr>\n",
       "    <tr>\n",
       "      <th>JH</th>\n",
       "      <td>Jharkhand</td>\n",
       "      <td>STATE</td>\n",
       "      <td>32988134</td>\n",
       "      <td>79714</td>\n",
       "      <td>414.0</td>\n",
       "      <td>4.60</td>\n",
       "      <td>24.05</td>\n",
       "      <td>47.55</td>\n",
       "      <td>24671.0</td>\n",
       "      <td>1.62</td>\n",
       "      <td>53176</td>\n",
       "      <td>12.32</td>\n",
       "    </tr>\n",
       "    <tr>\n",
       "      <th>KA</th>\n",
       "      <td>Karnataka</td>\n",
       "      <td>STATE</td>\n",
       "      <td>61095297</td>\n",
       "      <td>191791</td>\n",
       "      <td>319.0</td>\n",
       "      <td>3.77</td>\n",
       "      <td>56.48</td>\n",
       "      <td>57.93</td>\n",
       "      <td>275880.0</td>\n",
       "      <td>7.92</td>\n",
       "      <td>71442</td>\n",
       "      <td>16.21</td>\n",
       "    </tr>\n",
       "    <tr>\n",
       "      <th>KL</th>\n",
       "      <td>Kerala</td>\n",
       "      <td>STATE</td>\n",
       "      <td>33406061</td>\n",
       "      <td>38863</td>\n",
       "      <td>859.0</td>\n",
       "      <td>8.51</td>\n",
       "      <td>12.23</td>\n",
       "      <td>82.20</td>\n",
       "      <td>21211.0</td>\n",
       "      <td>1.53</td>\n",
       "      <td>22024</td>\n",
       "      <td>5.69</td>\n",
       "    </tr>\n",
       "    <tr>\n",
       "      <th>MP</th>\n",
       "      <td>Madhya Pradesh</td>\n",
       "      <td>STATE</td>\n",
       "      <td>72626809</td>\n",
       "      <td>308245</td>\n",
       "      <td>236.0</td>\n",
       "      <td>3.04</td>\n",
       "      <td>90.17</td>\n",
       "      <td>36.72</td>\n",
       "      <td>54773.0</td>\n",
       "      <td>2.37</td>\n",
       "      <td>168248</td>\n",
       "      <td>36.83</td>\n",
       "    </tr>\n",
       "    <tr>\n",
       "      <th>MH</th>\n",
       "      <td>Maharashtra</td>\n",
       "      <td>STATE</td>\n",
       "      <td>112374333</td>\n",
       "      <td>307713</td>\n",
       "      <td>365.0</td>\n",
       "      <td>4.17</td>\n",
       "      <td>90.01</td>\n",
       "      <td>69.14</td>\n",
       "      <td>3948077.0</td>\n",
       "      <td>100.00</td>\n",
       "      <td>196595</td>\n",
       "      <td>42.86</td>\n",
       "    </tr>\n",
       "    <tr>\n",
       "      <th>MN</th>\n",
       "      <td>Manipur</td>\n",
       "      <td>STATE</td>\n",
       "      <td>2570390</td>\n",
       "      <td>22327</td>\n",
       "      <td>122.0</td>\n",
       "      <td>2.04</td>\n",
       "      <td>7.45</td>\n",
       "      <td>34.26</td>\n",
       "      <td>27989.0</td>\n",
       "      <td>1.70</td>\n",
       "      <td>1874</td>\n",
       "      <td>1.39</td>\n",
       "    </tr>\n",
       "    <tr>\n",
       "      <th>ML</th>\n",
       "      <td>Meghalaya</td>\n",
       "      <td>STATE</td>\n",
       "      <td>2966889</td>\n",
       "      <td>22429</td>\n",
       "      <td>132.0</td>\n",
       "      <td>2.13</td>\n",
       "      <td>7.48</td>\n",
       "      <td>43.05</td>\n",
       "      <td>8692.0</td>\n",
       "      <td>1.22</td>\n",
       "      <td>4193</td>\n",
       "      <td>1.89</td>\n",
       "    </tr>\n",
       "    <tr>\n",
       "      <th>MZ</th>\n",
       "      <td>Mizoram</td>\n",
       "      <td>STATE</td>\n",
       "      <td>1097206</td>\n",
       "      <td>21081</td>\n",
       "      <td>52.0</td>\n",
       "      <td>1.43</td>\n",
       "      <td>7.09</td>\n",
       "      <td>75.77</td>\n",
       "      <td>23802.0</td>\n",
       "      <td>1.60</td>\n",
       "      <td>1781</td>\n",
       "      <td>1.38</td>\n",
       "    </tr>\n",
       "    <tr>\n",
       "      <th>NL</th>\n",
       "      <td>Nagaland</td>\n",
       "      <td>STATE</td>\n",
       "      <td>1978502</td>\n",
       "      <td>16579</td>\n",
       "      <td>119.0</td>\n",
       "      <td>2.02</td>\n",
       "      <td>5.79</td>\n",
       "      <td>27.00</td>\n",
       "      <td>21730.0</td>\n",
       "      <td>1.54</td>\n",
       "      <td>3687</td>\n",
       "      <td>1.78</td>\n",
       "    </tr>\n",
       "    <tr>\n",
       "      <th>OD</th>\n",
       "      <td>Odisha</td>\n",
       "      <td>STATE</td>\n",
       "      <td>41974218</td>\n",
       "      <td>155707</td>\n",
       "      <td>269.0</td>\n",
       "      <td>3.33</td>\n",
       "      <td>46.04</td>\n",
       "      <td>44.31</td>\n",
       "      <td>52109.0</td>\n",
       "      <td>2.31</td>\n",
       "      <td>52147</td>\n",
       "      <td>12.10</td>\n",
       "    </tr>\n",
       "    <tr>\n",
       "      <th>PB</th>\n",
       "      <td>Punjab</td>\n",
       "      <td>STATE</td>\n",
       "      <td>27743338</td>\n",
       "      <td>50362</td>\n",
       "      <td>550.0</td>\n",
       "      <td>5.80</td>\n",
       "      <td>15.56</td>\n",
       "      <td>58.08</td>\n",
       "      <td>72954.0</td>\n",
       "      <td>2.83</td>\n",
       "      <td>52076</td>\n",
       "      <td>12.09</td>\n",
       "    </tr>\n",
       "    <tr>\n",
       "      <th>RJ</th>\n",
       "      <td>Rajasthan</td>\n",
       "      <td>STATE</td>\n",
       "      <td>68548437</td>\n",
       "      <td>342239</td>\n",
       "      <td>201.0</td>\n",
       "      <td>2.74</td>\n",
       "      <td>100.00</td>\n",
       "      <td>41.33</td>\n",
       "      <td>67186.0</td>\n",
       "      <td>2.68</td>\n",
       "      <td>151034</td>\n",
       "      <td>33.16</td>\n",
       "    </tr>\n",
       "    <tr>\n",
       "      <th>SK</th>\n",
       "      <td>Sikkim</td>\n",
       "      <td>STATE</td>\n",
       "      <td>610577</td>\n",
       "      <td>7096</td>\n",
       "      <td>86.0</td>\n",
       "      <td>1.73</td>\n",
       "      <td>3.04</td>\n",
       "      <td>55.53</td>\n",
       "      <td>468.0</td>\n",
       "      <td>1.01</td>\n",
       "      <td>1439</td>\n",
       "      <td>1.30</td>\n",
       "    </tr>\n",
       "    <tr>\n",
       "      <th>TN</th>\n",
       "      <td>Tamil Nadu</td>\n",
       "      <td>STATE</td>\n",
       "      <td>72147030</td>\n",
       "      <td>130058</td>\n",
       "      <td>555.0</td>\n",
       "      <td>5.84</td>\n",
       "      <td>38.62</td>\n",
       "      <td>72.42</td>\n",
       "      <td>162857.0</td>\n",
       "      <td>5.08</td>\n",
       "      <td>85010</td>\n",
       "      <td>19.10</td>\n",
       "    </tr>\n",
       "    <tr>\n",
       "      <th>TS</th>\n",
       "      <td>Telangana</td>\n",
       "      <td>STATE</td>\n",
       "      <td>35003674</td>\n",
       "      <td>112077</td>\n",
       "      <td>312.0</td>\n",
       "      <td>3.71</td>\n",
       "      <td>33.41</td>\n",
       "      <td>69.96</td>\n",
       "      <td>755994.0</td>\n",
       "      <td>19.96</td>\n",
       "      <td>60924</td>\n",
       "      <td>13.97</td>\n",
       "    </tr>\n",
       "    <tr>\n",
       "      <th>TR</th>\n",
       "      <td>Tripura</td>\n",
       "      <td>STATE</td>\n",
       "      <td>3673917</td>\n",
       "      <td>10486</td>\n",
       "      <td>350.0</td>\n",
       "      <td>4.04</td>\n",
       "      <td>4.02</td>\n",
       "      <td>70.16</td>\n",
       "      <td>3608.0</td>\n",
       "      <td>1.09</td>\n",
       "      <td>2777</td>\n",
       "      <td>1.59</td>\n",
       "    </tr>\n",
       "    <tr>\n",
       "      <th>UP</th>\n",
       "      <td>Uttar Pradesh</td>\n",
       "      <td>STATE</td>\n",
       "      <td>199812341</td>\n",
       "      <td>240928</td>\n",
       "      <td>828.0</td>\n",
       "      <td>8.23</td>\n",
       "      <td>70.69</td>\n",
       "      <td>30.57</td>\n",
       "      <td>178134.0</td>\n",
       "      <td>5.47</td>\n",
       "      <td>464899</td>\n",
       "      <td>100.00</td>\n",
       "    </tr>\n",
       "    <tr>\n",
       "      <th>UK</th>\n",
       "      <td>Uttarakhand</td>\n",
       "      <td>STATE</td>\n",
       "      <td>10086292</td>\n",
       "      <td>53483</td>\n",
       "      <td>189.0</td>\n",
       "      <td>2.63</td>\n",
       "      <td>16.46</td>\n",
       "      <td>44.21</td>\n",
       "      <td>14327.0</td>\n",
       "      <td>1.36</td>\n",
       "      <td>23576</td>\n",
       "      <td>6.02</td>\n",
       "    </tr>\n",
       "    <tr>\n",
       "      <th>WB</th>\n",
       "      <td>West Bengal</td>\n",
       "      <td>STATE</td>\n",
       "      <td>91276115</td>\n",
       "      <td>88752</td>\n",
       "      <td>1029.0</td>\n",
       "      <td>10.00</td>\n",
       "      <td>26.67</td>\n",
       "      <td>NaN</td>\n",
       "      <td>69199.0</td>\n",
       "      <td>2.74</td>\n",
       "      <td>91512</td>\n",
       "      <td>20.48</td>\n",
       "    </tr>\n",
       "  </tbody>\n",
       "</table>\n",
       "</div>"
      ],
      "text/plain": [
       "                                   State_UT   Type  POPULATION    AREA  \\\n",
       "Code                                                                     \n",
       "AN              Andaman and Nicobar Islands     UT      380581    8249   \n",
       "CH                               Chandigarh     UT     1055450     114   \n",
       "DNHDD  Dadra & Nagar Haveli and Daman & Diu     UT      586956     603   \n",
       "DL                                    Delhi     UT    16787941    1484   \n",
       "LA                                   Ladakh     UT      274000   96701   \n",
       "LD                      Lakshadweep Islands     UT       64473      32   \n",
       "PY                               Puducherry     UT     1247953     479   \n",
       "AD                           Andhra Pradesh  STATE    49577103  162968   \n",
       "AR                        Arunachal Pradesh  STATE     1383727   83743   \n",
       "AS                                    Assam  STATE    31205576   78438   \n",
       "BR                                    Bihar  STATE   104099452   94163   \n",
       "CG                             Chhattisgarh  STATE    25545198  135191   \n",
       "GA                                      Goa  STATE     1458545    3702   \n",
       "GJ                                  Gujarat  STATE    60439692  196024   \n",
       "HR                                  Haryana  STATE    25351462   44212   \n",
       "HP                         Himachal Pradesh  STATE     6864602   55673   \n",
       "JK                        Jammu and Kashmir  STATE    12267032  125535   \n",
       "JH                                Jharkhand  STATE    32988134   79714   \n",
       "KA                                Karnataka  STATE    61095297  191791   \n",
       "KL                                   Kerala  STATE    33406061   38863   \n",
       "MP                           Madhya Pradesh  STATE    72626809  308245   \n",
       "MH                              Maharashtra  STATE   112374333  307713   \n",
       "MN                                  Manipur  STATE     2570390   22327   \n",
       "ML                                Meghalaya  STATE     2966889   22429   \n",
       "MZ                                  Mizoram  STATE     1097206   21081   \n",
       "NL                                 Nagaland  STATE     1978502   16579   \n",
       "OD                                   Odisha  STATE    41974218  155707   \n",
       "PB                                   Punjab  STATE    27743338   50362   \n",
       "RJ                                Rajasthan  STATE    68548437  342239   \n",
       "SK                                   Sikkim  STATE      610577    7096   \n",
       "TN                               Tamil Nadu  STATE    72147030  130058   \n",
       "TS                                Telangana  STATE    35003674  112077   \n",
       "TR                                  Tripura  STATE     3673917   10486   \n",
       "UP                            Uttar Pradesh  STATE   199812341  240928   \n",
       "UK                              Uttarakhand  STATE    10086292   53483   \n",
       "WB                              West Bengal  STATE    91276115   88752   \n",
       "\n",
       "       DENSITY (2021)  DENSITY Scaling  AREA Scaling  Health_Index  HIV_Cases  \\\n",
       "Code                                                                            \n",
       "AN               46.0             1.38          3.38         44.74      426.0   \n",
       "CH             9252.0            82.07          1.02         62.53     1921.0   \n",
       "DNHDD           973.0             9.50          1.17         66.20     1543.0   \n",
       "DL            11297.0           100.00          1.42         49.84    55801.0   \n",
       "LA                2.8             1.00         28.97           NaN      142.0   \n",
       "LD             2013.0            18.62          1.00         51.87        0.0   \n",
       "PY             2598.0            23.75          1.13         50.83     3962.0   \n",
       "AD              303.0             3.63         48.14         69.95        NaN   \n",
       "AR               17.0             1.12         25.22         33.92      686.0   \n",
       "AS              397.0             4.46         23.68         47.74    25073.0   \n",
       "BR             1102.0            10.64         28.23         31.00   142793.0   \n",
       "CG              189.0             2.63         40.10         50.70    39626.0   \n",
       "GA              394.0             4.43          2.06         53.68     4596.0   \n",
       "GJ              308.0             3.68         57.70         63.59   113532.0   \n",
       "HR              573.0             6.00         13.78         49.26    49976.0   \n",
       "HP              123.0             2.05         17.10         63.17     7139.0   \n",
       "JK               98.0             1.83         37.31         46.99     6385.0   \n",
       "JH              414.0             4.60         24.05         47.55    24671.0   \n",
       "KA              319.0             3.77         56.48         57.93   275880.0   \n",
       "KL              859.0             8.51         12.23         82.20    21211.0   \n",
       "MP              236.0             3.04         90.17         36.72    54773.0   \n",
       "MH              365.0             4.17         90.01         69.14  3948077.0   \n",
       "MN              122.0             2.04          7.45         34.26    27989.0   \n",
       "ML              132.0             2.13          7.48         43.05     8692.0   \n",
       "MZ               52.0             1.43          7.09         75.77    23802.0   \n",
       "NL              119.0             2.02          5.79         27.00    21730.0   \n",
       "OD              269.0             3.33         46.04         44.31    52109.0   \n",
       "PB              550.0             5.80         15.56         58.08    72954.0   \n",
       "RJ              201.0             2.74        100.00         41.33    67186.0   \n",
       "SK               86.0             1.73          3.04         55.53      468.0   \n",
       "TN              555.0             5.84         38.62         72.42   162857.0   \n",
       "TS              312.0             3.71         33.41         69.96   755994.0   \n",
       "TR              350.0             4.04          4.02         70.16     3608.0   \n",
       "UP              828.0             8.23         70.69         30.57   178134.0   \n",
       "UK              189.0             2.63         16.46         44.21    14327.0   \n",
       "WB             1029.0            10.00         26.67           NaN    69199.0   \n",
       "\n",
       "       HIV_Cases_Scaling  TB_Cases  TB_Cases_Scaling  \n",
       "Code                                                  \n",
       "AN                  1.01       516              1.11  \n",
       "CH                  1.05      3242              1.69  \n",
       "DNHDD               1.04       764              1.16  \n",
       "DL                  2.40     84302             18.95  \n",
       "LA                  1.00       319              1.06  \n",
       "LD                  1.00        20              1.00  \n",
       "PY                  1.10      1409              1.30  \n",
       "AD                   NaN     87762             19.69  \n",
       "AR                  1.02      2872              1.61  \n",
       "AS                  1.63     37730              9.03  \n",
       "BR                  4.58    135488             29.85  \n",
       "CG                  1.99     32615              7.94  \n",
       "GA                  1.12      2038              1.43  \n",
       "GJ                  3.85    141284             31.08  \n",
       "HR                  2.25     71253             16.17  \n",
       "HP                  1.18     14797              4.15  \n",
       "JK                  1.16     11005              3.34  \n",
       "JH                  1.62     53176             12.32  \n",
       "KA                  7.92     71442             16.21  \n",
       "KL                  1.53     22024              5.69  \n",
       "MP                  2.37    168248             36.83  \n",
       "MH                100.00    196595             42.86  \n",
       "MN                  1.70      1874              1.39  \n",
       "ML                  1.22      4193              1.89  \n",
       "MZ                  1.60      1781              1.38  \n",
       "NL                  1.54      3687              1.78  \n",
       "OD                  2.31     52147             12.10  \n",
       "PB                  2.83     52076             12.09  \n",
       "RJ                  2.68    151034             33.16  \n",
       "SK                  1.01      1439              1.30  \n",
       "TN                  5.08     85010             19.10  \n",
       "TS                 19.96     60924             13.97  \n",
       "TR                  1.09      2777              1.59  \n",
       "UP                  5.47    464899            100.00  \n",
       "UK                  1.36     23576              6.02  \n",
       "WB                  2.74     91512             20.48  "
      ]
     },
     "execution_count": 18,
     "metadata": {},
     "output_type": "execute_result"
    }
   ],
   "source": [
    "file=\"Master_Data.csv\"\n",
    "df=pd.read_csv(file,index_col=\"Code\")\n",
    "df"
   ]
  },
  {
   "cell_type": "code",
   "execution_count": 19,
   "metadata": {},
   "outputs": [
    {
     "data": {
      "text/html": [
       "<div>\n",
       "<style scoped>\n",
       "    .dataframe tbody tr th:only-of-type {\n",
       "        vertical-align: middle;\n",
       "    }\n",
       "\n",
       "    .dataframe tbody tr th {\n",
       "        vertical-align: top;\n",
       "    }\n",
       "\n",
       "    .dataframe thead th {\n",
       "        text-align: right;\n",
       "    }\n",
       "</style>\n",
       "<table border=\"1\" class=\"dataframe\">\n",
       "  <thead>\n",
       "    <tr style=\"text-align: right;\">\n",
       "      <th></th>\n",
       "      <th>POPULATION</th>\n",
       "      <th>AREA</th>\n",
       "      <th>DENSITY (2021)</th>\n",
       "      <th>DENSITY Scaling</th>\n",
       "      <th>AREA Scaling</th>\n",
       "      <th>Health_Index</th>\n",
       "      <th>HIV_Cases</th>\n",
       "      <th>HIV_Cases_Scaling</th>\n",
       "      <th>TB_Cases</th>\n",
       "      <th>TB_Cases_Scaling</th>\n",
       "    </tr>\n",
       "  </thead>\n",
       "  <tbody>\n",
       "    <tr>\n",
       "      <th>POPULATION</th>\n",
       "      <td>1.000000</td>\n",
       "      <td>0.719214</td>\n",
       "      <td>-0.104978</td>\n",
       "      <td>-0.104963</td>\n",
       "      <td>0.719202</td>\n",
       "      <td>-0.145627</td>\n",
       "      <td>0.377028</td>\n",
       "      <td>0.377042</td>\n",
       "      <td>0.941904</td>\n",
       "      <td>0.941893</td>\n",
       "    </tr>\n",
       "    <tr>\n",
       "      <th>AREA</th>\n",
       "      <td>0.719214</td>\n",
       "      <td>1.000000</td>\n",
       "      <td>-0.274323</td>\n",
       "      <td>-0.274340</td>\n",
       "      <td>1.000000</td>\n",
       "      <td>-0.104722</td>\n",
       "      <td>0.447053</td>\n",
       "      <td>0.447027</td>\n",
       "      <td>0.702535</td>\n",
       "      <td>0.702522</td>\n",
       "    </tr>\n",
       "    <tr>\n",
       "      <th>DENSITY (2021)</th>\n",
       "      <td>-0.104978</td>\n",
       "      <td>-0.274323</td>\n",
       "      <td>1.000000</td>\n",
       "      <td>1.000000</td>\n",
       "      <td>-0.274336</td>\n",
       "      <td>0.056846</td>\n",
       "      <td>-0.062360</td>\n",
       "      <td>-0.062341</td>\n",
       "      <td>-0.014195</td>\n",
       "      <td>-0.014171</td>\n",
       "    </tr>\n",
       "    <tr>\n",
       "      <th>DENSITY Scaling</th>\n",
       "      <td>-0.104963</td>\n",
       "      <td>-0.274340</td>\n",
       "      <td>1.000000</td>\n",
       "      <td>1.000000</td>\n",
       "      <td>-0.274353</td>\n",
       "      <td>0.056855</td>\n",
       "      <td>-0.062393</td>\n",
       "      <td>-0.062373</td>\n",
       "      <td>-0.014195</td>\n",
       "      <td>-0.014171</td>\n",
       "    </tr>\n",
       "    <tr>\n",
       "      <th>AREA Scaling</th>\n",
       "      <td>0.719202</td>\n",
       "      <td>1.000000</td>\n",
       "      <td>-0.274336</td>\n",
       "      <td>-0.274353</td>\n",
       "      <td>1.000000</td>\n",
       "      <td>-0.104738</td>\n",
       "      <td>0.447030</td>\n",
       "      <td>0.447004</td>\n",
       "      <td>0.702519</td>\n",
       "      <td>0.702506</td>\n",
       "    </tr>\n",
       "    <tr>\n",
       "      <th>Health_Index</th>\n",
       "      <td>-0.145627</td>\n",
       "      <td>-0.104722</td>\n",
       "      <td>0.056846</td>\n",
       "      <td>0.056855</td>\n",
       "      <td>-0.104738</td>\n",
       "      <td>1.000000</td>\n",
       "      <td>0.247626</td>\n",
       "      <td>0.247650</td>\n",
       "      <td>-0.218235</td>\n",
       "      <td>-0.218207</td>\n",
       "    </tr>\n",
       "    <tr>\n",
       "      <th>HIV_Cases</th>\n",
       "      <td>0.377028</td>\n",
       "      <td>0.447053</td>\n",
       "      <td>-0.062360</td>\n",
       "      <td>-0.062393</td>\n",
       "      <td>0.447030</td>\n",
       "      <td>0.247626</td>\n",
       "      <td>1.000000</td>\n",
       "      <td>1.000000</td>\n",
       "      <td>0.320588</td>\n",
       "      <td>0.320564</td>\n",
       "    </tr>\n",
       "    <tr>\n",
       "      <th>HIV_Cases_Scaling</th>\n",
       "      <td>0.377042</td>\n",
       "      <td>0.447027</td>\n",
       "      <td>-0.062341</td>\n",
       "      <td>-0.062373</td>\n",
       "      <td>0.447004</td>\n",
       "      <td>0.247650</td>\n",
       "      <td>1.000000</td>\n",
       "      <td>1.000000</td>\n",
       "      <td>0.320598</td>\n",
       "      <td>0.320575</td>\n",
       "    </tr>\n",
       "    <tr>\n",
       "      <th>TB_Cases</th>\n",
       "      <td>0.941904</td>\n",
       "      <td>0.702535</td>\n",
       "      <td>-0.014195</td>\n",
       "      <td>-0.014195</td>\n",
       "      <td>0.702519</td>\n",
       "      <td>-0.218235</td>\n",
       "      <td>0.320588</td>\n",
       "      <td>0.320598</td>\n",
       "      <td>1.000000</td>\n",
       "      <td>1.000000</td>\n",
       "    </tr>\n",
       "    <tr>\n",
       "      <th>TB_Cases_Scaling</th>\n",
       "      <td>0.941893</td>\n",
       "      <td>0.702522</td>\n",
       "      <td>-0.014171</td>\n",
       "      <td>-0.014171</td>\n",
       "      <td>0.702506</td>\n",
       "      <td>-0.218207</td>\n",
       "      <td>0.320564</td>\n",
       "      <td>0.320575</td>\n",
       "      <td>1.000000</td>\n",
       "      <td>1.000000</td>\n",
       "    </tr>\n",
       "  </tbody>\n",
       "</table>\n",
       "</div>"
      ],
      "text/plain": [
       "                   POPULATION      AREA  DENSITY (2021)  DENSITY Scaling  \\\n",
       "POPULATION           1.000000  0.719214       -0.104978        -0.104963   \n",
       "AREA                 0.719214  1.000000       -0.274323        -0.274340   \n",
       "DENSITY (2021)      -0.104978 -0.274323        1.000000         1.000000   \n",
       "DENSITY Scaling     -0.104963 -0.274340        1.000000         1.000000   \n",
       "AREA Scaling         0.719202  1.000000       -0.274336        -0.274353   \n",
       "Health_Index        -0.145627 -0.104722        0.056846         0.056855   \n",
       "HIV_Cases            0.377028  0.447053       -0.062360        -0.062393   \n",
       "HIV_Cases_Scaling    0.377042  0.447027       -0.062341        -0.062373   \n",
       "TB_Cases             0.941904  0.702535       -0.014195        -0.014195   \n",
       "TB_Cases_Scaling     0.941893  0.702522       -0.014171        -0.014171   \n",
       "\n",
       "                   AREA Scaling  Health_Index  HIV_Cases  HIV_Cases_Scaling  \\\n",
       "POPULATION             0.719202     -0.145627   0.377028           0.377042   \n",
       "AREA                   1.000000     -0.104722   0.447053           0.447027   \n",
       "DENSITY (2021)        -0.274336      0.056846  -0.062360          -0.062341   \n",
       "DENSITY Scaling       -0.274353      0.056855  -0.062393          -0.062373   \n",
       "AREA Scaling           1.000000     -0.104738   0.447030           0.447004   \n",
       "Health_Index          -0.104738      1.000000   0.247626           0.247650   \n",
       "HIV_Cases              0.447030      0.247626   1.000000           1.000000   \n",
       "HIV_Cases_Scaling      0.447004      0.247650   1.000000           1.000000   \n",
       "TB_Cases               0.702519     -0.218235   0.320588           0.320598   \n",
       "TB_Cases_Scaling       0.702506     -0.218207   0.320564           0.320575   \n",
       "\n",
       "                   TB_Cases  TB_Cases_Scaling  \n",
       "POPULATION         0.941904          0.941893  \n",
       "AREA               0.702535          0.702522  \n",
       "DENSITY (2021)    -0.014195         -0.014171  \n",
       "DENSITY Scaling   -0.014195         -0.014171  \n",
       "AREA Scaling       0.702519          0.702506  \n",
       "Health_Index      -0.218235         -0.218207  \n",
       "HIV_Cases          0.320588          0.320564  \n",
       "HIV_Cases_Scaling  0.320598          0.320575  \n",
       "TB_Cases           1.000000          1.000000  \n",
       "TB_Cases_Scaling   1.000000          1.000000  "
      ]
     },
     "execution_count": 19,
     "metadata": {},
     "output_type": "execute_result"
    }
   ],
   "source": [
    "df.corr()"
   ]
  },
  {
   "attachments": {},
   "cell_type": "markdown",
   "metadata": {},
   "source": [
    "Population and Area are positively correlated with TB cases.\n",
    "Population is more correlated with Increase in TB Cases as compared to AREA.\n",
    "\n",
    "Health Index negatively most correlated with TB cases count."
   ]
  },
  {
   "cell_type": "code",
   "execution_count": 20,
   "metadata": {},
   "outputs": [],
   "source": [
    "import plotly.graph_objects as go\n"
   ]
  },
  {
   "cell_type": "code",
   "execution_count": 34,
   "metadata": {},
   "outputs": [
    {
     "data": {
      "application/vnd.plotly.v1+json": {
       "config": {
        "plotlyServerURL": "https://plot.ly"
       },
       "data": [
        {
         "coloraxis": "coloraxis",
         "hovertemplate": "Health_Index=%{x}<br>Type=%{y}<br>count=%{z}<extra></extra>",
         "name": "",
         "nbinsx": 10,
         "nbinsy": 10,
         "texttemplate": "%{z}",
         "type": "histogram2d",
         "x": [
          44.74,
          62.53,
          66.2,
          49.84,
          null,
          51.87,
          50.83,
          69.95,
          33.92,
          47.74,
          31,
          50.7,
          53.68,
          63.59,
          49.26,
          63.17,
          46.99,
          47.55,
          57.93,
          82.2,
          36.72,
          69.14,
          34.26,
          43.05,
          75.77,
          27,
          44.31,
          58.08,
          41.33,
          55.53,
          72.42,
          69.96,
          70.16,
          30.57,
          44.21,
          null
         ],
         "xaxis": "x",
         "xbingroup": "x",
         "y": [
          "UT",
          "UT",
          "UT",
          "UT",
          "UT",
          "UT",
          "UT",
          "STATE",
          "STATE",
          "STATE",
          "STATE",
          "STATE",
          "STATE",
          "STATE",
          "STATE",
          "STATE",
          "STATE",
          "STATE",
          "STATE",
          "STATE",
          "STATE",
          "STATE",
          "STATE",
          "STATE",
          "STATE",
          "STATE",
          "STATE",
          "STATE",
          "STATE",
          "STATE",
          "STATE",
          "STATE",
          "STATE",
          "STATE",
          "STATE",
          "STATE"
         ],
         "yaxis": "y",
         "ybingroup": "y"
        }
       ],
       "layout": {
        "coloraxis": {
         "colorbar": {
          "title": {
           "text": "count"
          }
         },
         "colorscale": [
          [
           0,
           "#440154"
          ],
          [
           0.1111111111111111,
           "#482878"
          ],
          [
           0.2222222222222222,
           "#3e4989"
          ],
          [
           0.3333333333333333,
           "#31688e"
          ],
          [
           0.4444444444444444,
           "#26828e"
          ],
          [
           0.5555555555555556,
           "#1f9e89"
          ],
          [
           0.6666666666666666,
           "#35b779"
          ],
          [
           0.7777777777777778,
           "#6ece58"
          ],
          [
           0.8888888888888888,
           "#b5de2b"
          ],
          [
           1,
           "#fde725"
          ]
         ]
        },
        "legend": {
         "tracegroupgap": 0
        },
        "margin": {
         "t": 60
        },
        "template": {
         "data": {
          "bar": [
           {
            "error_x": {
             "color": "#2a3f5f"
            },
            "error_y": {
             "color": "#2a3f5f"
            },
            "marker": {
             "line": {
              "color": "#E5ECF6",
              "width": 0.5
             },
             "pattern": {
              "fillmode": "overlay",
              "size": 10,
              "solidity": 0.2
             }
            },
            "type": "bar"
           }
          ],
          "barpolar": [
           {
            "marker": {
             "line": {
              "color": "#E5ECF6",
              "width": 0.5
             },
             "pattern": {
              "fillmode": "overlay",
              "size": 10,
              "solidity": 0.2
             }
            },
            "type": "barpolar"
           }
          ],
          "carpet": [
           {
            "aaxis": {
             "endlinecolor": "#2a3f5f",
             "gridcolor": "white",
             "linecolor": "white",
             "minorgridcolor": "white",
             "startlinecolor": "#2a3f5f"
            },
            "baxis": {
             "endlinecolor": "#2a3f5f",
             "gridcolor": "white",
             "linecolor": "white",
             "minorgridcolor": "white",
             "startlinecolor": "#2a3f5f"
            },
            "type": "carpet"
           }
          ],
          "choropleth": [
           {
            "colorbar": {
             "outlinewidth": 0,
             "ticks": ""
            },
            "type": "choropleth"
           }
          ],
          "contour": [
           {
            "colorbar": {
             "outlinewidth": 0,
             "ticks": ""
            },
            "colorscale": [
             [
              0,
              "#0d0887"
             ],
             [
              0.1111111111111111,
              "#46039f"
             ],
             [
              0.2222222222222222,
              "#7201a8"
             ],
             [
              0.3333333333333333,
              "#9c179e"
             ],
             [
              0.4444444444444444,
              "#bd3786"
             ],
             [
              0.5555555555555556,
              "#d8576b"
             ],
             [
              0.6666666666666666,
              "#ed7953"
             ],
             [
              0.7777777777777778,
              "#fb9f3a"
             ],
             [
              0.8888888888888888,
              "#fdca26"
             ],
             [
              1,
              "#f0f921"
             ]
            ],
            "type": "contour"
           }
          ],
          "contourcarpet": [
           {
            "colorbar": {
             "outlinewidth": 0,
             "ticks": ""
            },
            "type": "contourcarpet"
           }
          ],
          "heatmap": [
           {
            "colorbar": {
             "outlinewidth": 0,
             "ticks": ""
            },
            "colorscale": [
             [
              0,
              "#0d0887"
             ],
             [
              0.1111111111111111,
              "#46039f"
             ],
             [
              0.2222222222222222,
              "#7201a8"
             ],
             [
              0.3333333333333333,
              "#9c179e"
             ],
             [
              0.4444444444444444,
              "#bd3786"
             ],
             [
              0.5555555555555556,
              "#d8576b"
             ],
             [
              0.6666666666666666,
              "#ed7953"
             ],
             [
              0.7777777777777778,
              "#fb9f3a"
             ],
             [
              0.8888888888888888,
              "#fdca26"
             ],
             [
              1,
              "#f0f921"
             ]
            ],
            "type": "heatmap"
           }
          ],
          "heatmapgl": [
           {
            "colorbar": {
             "outlinewidth": 0,
             "ticks": ""
            },
            "colorscale": [
             [
              0,
              "#0d0887"
             ],
             [
              0.1111111111111111,
              "#46039f"
             ],
             [
              0.2222222222222222,
              "#7201a8"
             ],
             [
              0.3333333333333333,
              "#9c179e"
             ],
             [
              0.4444444444444444,
              "#bd3786"
             ],
             [
              0.5555555555555556,
              "#d8576b"
             ],
             [
              0.6666666666666666,
              "#ed7953"
             ],
             [
              0.7777777777777778,
              "#fb9f3a"
             ],
             [
              0.8888888888888888,
              "#fdca26"
             ],
             [
              1,
              "#f0f921"
             ]
            ],
            "type": "heatmapgl"
           }
          ],
          "histogram": [
           {
            "marker": {
             "pattern": {
              "fillmode": "overlay",
              "size": 10,
              "solidity": 0.2
             }
            },
            "type": "histogram"
           }
          ],
          "histogram2d": [
           {
            "colorbar": {
             "outlinewidth": 0,
             "ticks": ""
            },
            "colorscale": [
             [
              0,
              "#0d0887"
             ],
             [
              0.1111111111111111,
              "#46039f"
             ],
             [
              0.2222222222222222,
              "#7201a8"
             ],
             [
              0.3333333333333333,
              "#9c179e"
             ],
             [
              0.4444444444444444,
              "#bd3786"
             ],
             [
              0.5555555555555556,
              "#d8576b"
             ],
             [
              0.6666666666666666,
              "#ed7953"
             ],
             [
              0.7777777777777778,
              "#fb9f3a"
             ],
             [
              0.8888888888888888,
              "#fdca26"
             ],
             [
              1,
              "#f0f921"
             ]
            ],
            "type": "histogram2d"
           }
          ],
          "histogram2dcontour": [
           {
            "colorbar": {
             "outlinewidth": 0,
             "ticks": ""
            },
            "colorscale": [
             [
              0,
              "#0d0887"
             ],
             [
              0.1111111111111111,
              "#46039f"
             ],
             [
              0.2222222222222222,
              "#7201a8"
             ],
             [
              0.3333333333333333,
              "#9c179e"
             ],
             [
              0.4444444444444444,
              "#bd3786"
             ],
             [
              0.5555555555555556,
              "#d8576b"
             ],
             [
              0.6666666666666666,
              "#ed7953"
             ],
             [
              0.7777777777777778,
              "#fb9f3a"
             ],
             [
              0.8888888888888888,
              "#fdca26"
             ],
             [
              1,
              "#f0f921"
             ]
            ],
            "type": "histogram2dcontour"
           }
          ],
          "mesh3d": [
           {
            "colorbar": {
             "outlinewidth": 0,
             "ticks": ""
            },
            "type": "mesh3d"
           }
          ],
          "parcoords": [
           {
            "line": {
             "colorbar": {
              "outlinewidth": 0,
              "ticks": ""
             }
            },
            "type": "parcoords"
           }
          ],
          "pie": [
           {
            "automargin": true,
            "type": "pie"
           }
          ],
          "scatter": [
           {
            "fillpattern": {
             "fillmode": "overlay",
             "size": 10,
             "solidity": 0.2
            },
            "type": "scatter"
           }
          ],
          "scatter3d": [
           {
            "line": {
             "colorbar": {
              "outlinewidth": 0,
              "ticks": ""
             }
            },
            "marker": {
             "colorbar": {
              "outlinewidth": 0,
              "ticks": ""
             }
            },
            "type": "scatter3d"
           }
          ],
          "scattercarpet": [
           {
            "marker": {
             "colorbar": {
              "outlinewidth": 0,
              "ticks": ""
             }
            },
            "type": "scattercarpet"
           }
          ],
          "scattergeo": [
           {
            "marker": {
             "colorbar": {
              "outlinewidth": 0,
              "ticks": ""
             }
            },
            "type": "scattergeo"
           }
          ],
          "scattergl": [
           {
            "marker": {
             "colorbar": {
              "outlinewidth": 0,
              "ticks": ""
             }
            },
            "type": "scattergl"
           }
          ],
          "scattermapbox": [
           {
            "marker": {
             "colorbar": {
              "outlinewidth": 0,
              "ticks": ""
             }
            },
            "type": "scattermapbox"
           }
          ],
          "scatterpolar": [
           {
            "marker": {
             "colorbar": {
              "outlinewidth": 0,
              "ticks": ""
             }
            },
            "type": "scatterpolar"
           }
          ],
          "scatterpolargl": [
           {
            "marker": {
             "colorbar": {
              "outlinewidth": 0,
              "ticks": ""
             }
            },
            "type": "scatterpolargl"
           }
          ],
          "scatterternary": [
           {
            "marker": {
             "colorbar": {
              "outlinewidth": 0,
              "ticks": ""
             }
            },
            "type": "scatterternary"
           }
          ],
          "surface": [
           {
            "colorbar": {
             "outlinewidth": 0,
             "ticks": ""
            },
            "colorscale": [
             [
              0,
              "#0d0887"
             ],
             [
              0.1111111111111111,
              "#46039f"
             ],
             [
              0.2222222222222222,
              "#7201a8"
             ],
             [
              0.3333333333333333,
              "#9c179e"
             ],
             [
              0.4444444444444444,
              "#bd3786"
             ],
             [
              0.5555555555555556,
              "#d8576b"
             ],
             [
              0.6666666666666666,
              "#ed7953"
             ],
             [
              0.7777777777777778,
              "#fb9f3a"
             ],
             [
              0.8888888888888888,
              "#fdca26"
             ],
             [
              1,
              "#f0f921"
             ]
            ],
            "type": "surface"
           }
          ],
          "table": [
           {
            "cells": {
             "fill": {
              "color": "#EBF0F8"
             },
             "line": {
              "color": "white"
             }
            },
            "header": {
             "fill": {
              "color": "#C8D4E3"
             },
             "line": {
              "color": "white"
             }
            },
            "type": "table"
           }
          ]
         },
         "layout": {
          "annotationdefaults": {
           "arrowcolor": "#2a3f5f",
           "arrowhead": 0,
           "arrowwidth": 1
          },
          "autotypenumbers": "strict",
          "coloraxis": {
           "colorbar": {
            "outlinewidth": 0,
            "ticks": ""
           }
          },
          "colorscale": {
           "diverging": [
            [
             0,
             "#8e0152"
            ],
            [
             0.1,
             "#c51b7d"
            ],
            [
             0.2,
             "#de77ae"
            ],
            [
             0.3,
             "#f1b6da"
            ],
            [
             0.4,
             "#fde0ef"
            ],
            [
             0.5,
             "#f7f7f7"
            ],
            [
             0.6,
             "#e6f5d0"
            ],
            [
             0.7,
             "#b8e186"
            ],
            [
             0.8,
             "#7fbc41"
            ],
            [
             0.9,
             "#4d9221"
            ],
            [
             1,
             "#276419"
            ]
           ],
           "sequential": [
            [
             0,
             "#0d0887"
            ],
            [
             0.1111111111111111,
             "#46039f"
            ],
            [
             0.2222222222222222,
             "#7201a8"
            ],
            [
             0.3333333333333333,
             "#9c179e"
            ],
            [
             0.4444444444444444,
             "#bd3786"
            ],
            [
             0.5555555555555556,
             "#d8576b"
            ],
            [
             0.6666666666666666,
             "#ed7953"
            ],
            [
             0.7777777777777778,
             "#fb9f3a"
            ],
            [
             0.8888888888888888,
             "#fdca26"
            ],
            [
             1,
             "#f0f921"
            ]
           ],
           "sequentialminus": [
            [
             0,
             "#0d0887"
            ],
            [
             0.1111111111111111,
             "#46039f"
            ],
            [
             0.2222222222222222,
             "#7201a8"
            ],
            [
             0.3333333333333333,
             "#9c179e"
            ],
            [
             0.4444444444444444,
             "#bd3786"
            ],
            [
             0.5555555555555556,
             "#d8576b"
            ],
            [
             0.6666666666666666,
             "#ed7953"
            ],
            [
             0.7777777777777778,
             "#fb9f3a"
            ],
            [
             0.8888888888888888,
             "#fdca26"
            ],
            [
             1,
             "#f0f921"
            ]
           ]
          },
          "colorway": [
           "#636efa",
           "#EF553B",
           "#00cc96",
           "#ab63fa",
           "#FFA15A",
           "#19d3f3",
           "#FF6692",
           "#B6E880",
           "#FF97FF",
           "#FECB52"
          ],
          "font": {
           "color": "#2a3f5f"
          },
          "geo": {
           "bgcolor": "white",
           "lakecolor": "white",
           "landcolor": "#E5ECF6",
           "showlakes": true,
           "showland": true,
           "subunitcolor": "white"
          },
          "hoverlabel": {
           "align": "left"
          },
          "hovermode": "closest",
          "mapbox": {
           "style": "light"
          },
          "paper_bgcolor": "white",
          "plot_bgcolor": "#E5ECF6",
          "polar": {
           "angularaxis": {
            "gridcolor": "white",
            "linecolor": "white",
            "ticks": ""
           },
           "bgcolor": "#E5ECF6",
           "radialaxis": {
            "gridcolor": "white",
            "linecolor": "white",
            "ticks": ""
           }
          },
          "scene": {
           "xaxis": {
            "backgroundcolor": "#E5ECF6",
            "gridcolor": "white",
            "gridwidth": 2,
            "linecolor": "white",
            "showbackground": true,
            "ticks": "",
            "zerolinecolor": "white"
           },
           "yaxis": {
            "backgroundcolor": "#E5ECF6",
            "gridcolor": "white",
            "gridwidth": 2,
            "linecolor": "white",
            "showbackground": true,
            "ticks": "",
            "zerolinecolor": "white"
           },
           "zaxis": {
            "backgroundcolor": "#E5ECF6",
            "gridcolor": "white",
            "gridwidth": 2,
            "linecolor": "white",
            "showbackground": true,
            "ticks": "",
            "zerolinecolor": "white"
           }
          },
          "shapedefaults": {
           "line": {
            "color": "#2a3f5f"
           }
          },
          "ternary": {
           "aaxis": {
            "gridcolor": "white",
            "linecolor": "white",
            "ticks": ""
           },
           "baxis": {
            "gridcolor": "white",
            "linecolor": "white",
            "ticks": ""
           },
           "bgcolor": "#E5ECF6",
           "caxis": {
            "gridcolor": "white",
            "linecolor": "white",
            "ticks": ""
           }
          },
          "title": {
           "x": 0.05
          },
          "xaxis": {
           "automargin": true,
           "gridcolor": "white",
           "linecolor": "white",
           "ticks": "",
           "title": {
            "standoff": 15
           },
           "zerolinecolor": "white",
           "zerolinewidth": 2
          },
          "yaxis": {
           "automargin": true,
           "gridcolor": "white",
           "linecolor": "white",
           "ticks": "",
           "title": {
            "standoff": 15
           },
           "zerolinecolor": "white",
           "zerolinewidth": 2
          }
         }
        },
        "xaxis": {
         "anchor": "y",
         "domain": [
          0,
          1
         ],
         "title": {
          "text": "Health_Index"
         }
        },
        "yaxis": {
         "anchor": "x",
         "domain": [
          0,
          1
         ],
         "title": {
          "text": "Type"
         }
        }
       }
      }
     },
     "metadata": {},
     "output_type": "display_data"
    }
   ],
   "source": [
    "histo=px.density_heatmap(df,y=\"Type\",x=\"Health_Index\",\n",
    "                         nbinsx=10,nbinsy=10,\n",
    "                         color_continuous_scale=\"Viridis\",\n",
    "                         text_auto=True).show()"
   ]
  },
  {
   "cell_type": "code",
   "execution_count": null,
   "metadata": {},
   "outputs": [],
   "source": [
    "histo2=px.density_heatmap(df,y=\"Type\",x=\"State_UT\",\n",
    "                          facet_col=\"Health_Index\",\n",
    "                          facet_row=\"TB_Cases_Scaling\",\n",
    "                          facet_col_spacing=1)"
   ]
  },
  {
   "cell_type": "code",
   "execution_count": 40,
   "metadata": {},
   "outputs": [
    {
     "data": {
      "application/vnd.plotly.v1+json": {
       "config": {
        "plotlyServerURL": "https://plot.ly"
       },
       "data": [
        {
         "coloraxis": "coloraxis",
         "hovertemplate": "x: %{x}<br>Code: %{y}<br>color: %{z}<extra></extra>",
         "name": "0",
         "texttemplate": "%{z}",
         "type": "heatmap",
         "x": [
          "State_UT",
          "Type",
          "POPULATION",
          "AREA",
          "DENSITY (2021)",
          "DENSITY Scaling",
          "AREA Scaling",
          "Health_Index",
          "HIV_Cases",
          "HIV_Cases_Scaling",
          "TB_Cases",
          "TB_Cases_Scaling"
         ],
         "xaxis": "x",
         "y": [
          "AN",
          "CH",
          "DNHDD",
          "DL",
          "LA",
          "LD",
          "PY",
          "AD",
          "AR",
          "AS",
          "BR",
          "CG",
          "GA",
          "GJ",
          "HR",
          "HP",
          "JK",
          "JH",
          "KA",
          "KL",
          "MP",
          "MH",
          "MN",
          "ML",
          "MZ",
          "NL",
          "OD",
          "PB",
          "RJ",
          "SK",
          "TN",
          "TS",
          "TR",
          "UP",
          "UK",
          "WB"
         ],
         "yaxis": "y",
         "z": [
          [
           "Andaman and Nicobar Islands",
           "UT",
           380581,
           8249,
           46,
           1.38,
           3.38,
           44.74,
           426,
           1.01,
           516,
           1.11
          ],
          [
           "Chandigarh",
           "UT",
           1055450,
           114,
           9252,
           82.07,
           1.02,
           62.53,
           1921,
           1.05,
           3242,
           1.69
          ],
          [
           "Dadra & Nagar Haveli and Daman & Diu",
           "UT",
           586956,
           603,
           973,
           9.5,
           1.17,
           66.2,
           1543,
           1.04,
           764,
           1.16
          ],
          [
           "Delhi",
           "UT",
           16787941,
           1484,
           11297,
           100,
           1.42,
           49.84,
           55801,
           2.4,
           84302,
           18.95
          ],
          [
           "Ladakh",
           "UT",
           274000,
           96701,
           2.8,
           1,
           28.97,
           null,
           142,
           1,
           319,
           1.06
          ],
          [
           "Lakshadweep Islands",
           "UT",
           64473,
           32,
           2013,
           18.62,
           1,
           51.87,
           0,
           1,
           20,
           1
          ],
          [
           "Puducherry",
           "UT",
           1247953,
           479,
           2598,
           23.75,
           1.13,
           50.83,
           3962,
           1.1,
           1409,
           1.3
          ],
          [
           "Andhra Pradesh",
           "STATE",
           49577103,
           162968,
           303,
           3.63,
           48.14,
           69.95,
           null,
           null,
           87762,
           19.69
          ],
          [
           "Arunachal Pradesh",
           "STATE",
           1383727,
           83743,
           17,
           1.12,
           25.22,
           33.92,
           686,
           1.02,
           2872,
           1.61
          ],
          [
           "Assam",
           "STATE",
           31205576,
           78438,
           397,
           4.46,
           23.68,
           47.74,
           25073,
           1.63,
           37730,
           9.03
          ],
          [
           "Bihar",
           "STATE",
           104099452,
           94163,
           1102,
           10.64,
           28.23,
           31,
           142793,
           4.58,
           135488,
           29.85
          ],
          [
           "Chhattisgarh",
           "STATE",
           25545198,
           135191,
           189,
           2.63,
           40.1,
           50.7,
           39626,
           1.99,
           32615,
           7.94
          ],
          [
           "Goa",
           "STATE",
           1458545,
           3702,
           394,
           4.43,
           2.06,
           53.68,
           4596,
           1.12,
           2038,
           1.43
          ],
          [
           "Gujarat",
           "STATE",
           60439692,
           196024,
           308,
           3.68,
           57.7,
           63.59,
           113532,
           3.85,
           141284,
           31.08
          ],
          [
           "Haryana",
           "STATE",
           25351462,
           44212,
           573,
           6,
           13.78,
           49.26,
           49976,
           2.25,
           71253,
           16.17
          ],
          [
           "Himachal Pradesh",
           "STATE",
           6864602,
           55673,
           123,
           2.05,
           17.1,
           63.17,
           7139,
           1.18,
           14797,
           4.15
          ],
          [
           "Jammu and Kashmir",
           "STATE",
           12267032,
           125535,
           98,
           1.83,
           37.31,
           46.99,
           6385,
           1.16,
           11005,
           3.34
          ],
          [
           "Jharkhand",
           "STATE",
           32988134,
           79714,
           414,
           4.6,
           24.05,
           47.55,
           24671,
           1.62,
           53176,
           12.32
          ],
          [
           "Karnataka",
           "STATE",
           61095297,
           191791,
           319,
           3.77,
           56.48,
           57.93,
           275880,
           7.92,
           71442,
           16.21
          ],
          [
           "Kerala",
           "STATE",
           33406061,
           38863,
           859,
           8.51,
           12.23,
           82.2,
           21211,
           1.53,
           22024,
           5.69
          ],
          [
           "Madhya Pradesh",
           "STATE",
           72626809,
           308245,
           236,
           3.04,
           90.17,
           36.72,
           54773,
           2.37,
           168248,
           36.83
          ],
          [
           "Maharashtra",
           "STATE",
           112374333,
           307713,
           365,
           4.17,
           90.01,
           69.14,
           3948077,
           100,
           196595,
           42.86
          ],
          [
           "Manipur",
           "STATE",
           2570390,
           22327,
           122,
           2.04,
           7.45,
           34.26,
           27989,
           1.7,
           1874,
           1.39
          ],
          [
           "Meghalaya",
           "STATE",
           2966889,
           22429,
           132,
           2.13,
           7.48,
           43.05,
           8692,
           1.22,
           4193,
           1.89
          ],
          [
           "Mizoram",
           "STATE",
           1097206,
           21081,
           52,
           1.43,
           7.09,
           75.77,
           23802,
           1.6,
           1781,
           1.38
          ],
          [
           "Nagaland",
           "STATE",
           1978502,
           16579,
           119,
           2.02,
           5.79,
           27,
           21730,
           1.54,
           3687,
           1.78
          ],
          [
           "Odisha",
           "STATE",
           41974218,
           155707,
           269,
           3.33,
           46.04,
           44.31,
           52109,
           2.31,
           52147,
           12.1
          ],
          [
           "Punjab",
           "STATE",
           27743338,
           50362,
           550,
           5.8,
           15.56,
           58.08,
           72954,
           2.83,
           52076,
           12.09
          ],
          [
           "Rajasthan",
           "STATE",
           68548437,
           342239,
           201,
           2.74,
           100,
           41.33,
           67186,
           2.68,
           151034,
           33.16
          ],
          [
           "Sikkim",
           "STATE",
           610577,
           7096,
           86,
           1.73,
           3.04,
           55.53,
           468,
           1.01,
           1439,
           1.3
          ],
          [
           "Tamil Nadu",
           "STATE",
           72147030,
           130058,
           555,
           5.84,
           38.62,
           72.42,
           162857,
           5.08,
           85010,
           19.1
          ],
          [
           "Telangana",
           "STATE",
           35003674,
           112077,
           312,
           3.71,
           33.41,
           69.96,
           755994,
           19.96,
           60924,
           13.97
          ],
          [
           "Tripura",
           "STATE",
           3673917,
           10486,
           350,
           4.04,
           4.02,
           70.16,
           3608,
           1.09,
           2777,
           1.59
          ],
          [
           "Uttar Pradesh",
           "STATE",
           199812341,
           240928,
           828,
           8.23,
           70.69,
           30.57,
           178134,
           5.47,
           464899,
           100
          ],
          [
           "Uttarakhand",
           "STATE",
           10086292,
           53483,
           189,
           2.63,
           16.46,
           44.21,
           14327,
           1.36,
           23576,
           6.02
          ],
          [
           "West Bengal",
           "STATE",
           91276115,
           88752,
           1029,
           10,
           26.67,
           null,
           69199,
           2.74,
           91512,
           20.48
          ]
         ]
        }
       ],
       "layout": {
        "coloraxis": {
         "colorscale": [
          [
           0,
           "#0d0887"
          ],
          [
           0.1111111111111111,
           "#46039f"
          ],
          [
           0.2222222222222222,
           "#7201a8"
          ],
          [
           0.3333333333333333,
           "#9c179e"
          ],
          [
           0.4444444444444444,
           "#bd3786"
          ],
          [
           0.5555555555555556,
           "#d8576b"
          ],
          [
           0.6666666666666666,
           "#ed7953"
          ],
          [
           0.7777777777777778,
           "#fb9f3a"
          ],
          [
           0.8888888888888888,
           "#fdca26"
          ],
          [
           1,
           "#f0f921"
          ]
         ]
        },
        "margin": {
         "t": 60
        },
        "template": {
         "data": {
          "bar": [
           {
            "error_x": {
             "color": "#2a3f5f"
            },
            "error_y": {
             "color": "#2a3f5f"
            },
            "marker": {
             "line": {
              "color": "#E5ECF6",
              "width": 0.5
             },
             "pattern": {
              "fillmode": "overlay",
              "size": 10,
              "solidity": 0.2
             }
            },
            "type": "bar"
           }
          ],
          "barpolar": [
           {
            "marker": {
             "line": {
              "color": "#E5ECF6",
              "width": 0.5
             },
             "pattern": {
              "fillmode": "overlay",
              "size": 10,
              "solidity": 0.2
             }
            },
            "type": "barpolar"
           }
          ],
          "carpet": [
           {
            "aaxis": {
             "endlinecolor": "#2a3f5f",
             "gridcolor": "white",
             "linecolor": "white",
             "minorgridcolor": "white",
             "startlinecolor": "#2a3f5f"
            },
            "baxis": {
             "endlinecolor": "#2a3f5f",
             "gridcolor": "white",
             "linecolor": "white",
             "minorgridcolor": "white",
             "startlinecolor": "#2a3f5f"
            },
            "type": "carpet"
           }
          ],
          "choropleth": [
           {
            "colorbar": {
             "outlinewidth": 0,
             "ticks": ""
            },
            "type": "choropleth"
           }
          ],
          "contour": [
           {
            "colorbar": {
             "outlinewidth": 0,
             "ticks": ""
            },
            "colorscale": [
             [
              0,
              "#0d0887"
             ],
             [
              0.1111111111111111,
              "#46039f"
             ],
             [
              0.2222222222222222,
              "#7201a8"
             ],
             [
              0.3333333333333333,
              "#9c179e"
             ],
             [
              0.4444444444444444,
              "#bd3786"
             ],
             [
              0.5555555555555556,
              "#d8576b"
             ],
             [
              0.6666666666666666,
              "#ed7953"
             ],
             [
              0.7777777777777778,
              "#fb9f3a"
             ],
             [
              0.8888888888888888,
              "#fdca26"
             ],
             [
              1,
              "#f0f921"
             ]
            ],
            "type": "contour"
           }
          ],
          "contourcarpet": [
           {
            "colorbar": {
             "outlinewidth": 0,
             "ticks": ""
            },
            "type": "contourcarpet"
           }
          ],
          "heatmap": [
           {
            "colorbar": {
             "outlinewidth": 0,
             "ticks": ""
            },
            "colorscale": [
             [
              0,
              "#0d0887"
             ],
             [
              0.1111111111111111,
              "#46039f"
             ],
             [
              0.2222222222222222,
              "#7201a8"
             ],
             [
              0.3333333333333333,
              "#9c179e"
             ],
             [
              0.4444444444444444,
              "#bd3786"
             ],
             [
              0.5555555555555556,
              "#d8576b"
             ],
             [
              0.6666666666666666,
              "#ed7953"
             ],
             [
              0.7777777777777778,
              "#fb9f3a"
             ],
             [
              0.8888888888888888,
              "#fdca26"
             ],
             [
              1,
              "#f0f921"
             ]
            ],
            "type": "heatmap"
           }
          ],
          "heatmapgl": [
           {
            "colorbar": {
             "outlinewidth": 0,
             "ticks": ""
            },
            "colorscale": [
             [
              0,
              "#0d0887"
             ],
             [
              0.1111111111111111,
              "#46039f"
             ],
             [
              0.2222222222222222,
              "#7201a8"
             ],
             [
              0.3333333333333333,
              "#9c179e"
             ],
             [
              0.4444444444444444,
              "#bd3786"
             ],
             [
              0.5555555555555556,
              "#d8576b"
             ],
             [
              0.6666666666666666,
              "#ed7953"
             ],
             [
              0.7777777777777778,
              "#fb9f3a"
             ],
             [
              0.8888888888888888,
              "#fdca26"
             ],
             [
              1,
              "#f0f921"
             ]
            ],
            "type": "heatmapgl"
           }
          ],
          "histogram": [
           {
            "marker": {
             "pattern": {
              "fillmode": "overlay",
              "size": 10,
              "solidity": 0.2
             }
            },
            "type": "histogram"
           }
          ],
          "histogram2d": [
           {
            "colorbar": {
             "outlinewidth": 0,
             "ticks": ""
            },
            "colorscale": [
             [
              0,
              "#0d0887"
             ],
             [
              0.1111111111111111,
              "#46039f"
             ],
             [
              0.2222222222222222,
              "#7201a8"
             ],
             [
              0.3333333333333333,
              "#9c179e"
             ],
             [
              0.4444444444444444,
              "#bd3786"
             ],
             [
              0.5555555555555556,
              "#d8576b"
             ],
             [
              0.6666666666666666,
              "#ed7953"
             ],
             [
              0.7777777777777778,
              "#fb9f3a"
             ],
             [
              0.8888888888888888,
              "#fdca26"
             ],
             [
              1,
              "#f0f921"
             ]
            ],
            "type": "histogram2d"
           }
          ],
          "histogram2dcontour": [
           {
            "colorbar": {
             "outlinewidth": 0,
             "ticks": ""
            },
            "colorscale": [
             [
              0,
              "#0d0887"
             ],
             [
              0.1111111111111111,
              "#46039f"
             ],
             [
              0.2222222222222222,
              "#7201a8"
             ],
             [
              0.3333333333333333,
              "#9c179e"
             ],
             [
              0.4444444444444444,
              "#bd3786"
             ],
             [
              0.5555555555555556,
              "#d8576b"
             ],
             [
              0.6666666666666666,
              "#ed7953"
             ],
             [
              0.7777777777777778,
              "#fb9f3a"
             ],
             [
              0.8888888888888888,
              "#fdca26"
             ],
             [
              1,
              "#f0f921"
             ]
            ],
            "type": "histogram2dcontour"
           }
          ],
          "mesh3d": [
           {
            "colorbar": {
             "outlinewidth": 0,
             "ticks": ""
            },
            "type": "mesh3d"
           }
          ],
          "parcoords": [
           {
            "line": {
             "colorbar": {
              "outlinewidth": 0,
              "ticks": ""
             }
            },
            "type": "parcoords"
           }
          ],
          "pie": [
           {
            "automargin": true,
            "type": "pie"
           }
          ],
          "scatter": [
           {
            "fillpattern": {
             "fillmode": "overlay",
             "size": 10,
             "solidity": 0.2
            },
            "type": "scatter"
           }
          ],
          "scatter3d": [
           {
            "line": {
             "colorbar": {
              "outlinewidth": 0,
              "ticks": ""
             }
            },
            "marker": {
             "colorbar": {
              "outlinewidth": 0,
              "ticks": ""
             }
            },
            "type": "scatter3d"
           }
          ],
          "scattercarpet": [
           {
            "marker": {
             "colorbar": {
              "outlinewidth": 0,
              "ticks": ""
             }
            },
            "type": "scattercarpet"
           }
          ],
          "scattergeo": [
           {
            "marker": {
             "colorbar": {
              "outlinewidth": 0,
              "ticks": ""
             }
            },
            "type": "scattergeo"
           }
          ],
          "scattergl": [
           {
            "marker": {
             "colorbar": {
              "outlinewidth": 0,
              "ticks": ""
             }
            },
            "type": "scattergl"
           }
          ],
          "scattermapbox": [
           {
            "marker": {
             "colorbar": {
              "outlinewidth": 0,
              "ticks": ""
             }
            },
            "type": "scattermapbox"
           }
          ],
          "scatterpolar": [
           {
            "marker": {
             "colorbar": {
              "outlinewidth": 0,
              "ticks": ""
             }
            },
            "type": "scatterpolar"
           }
          ],
          "scatterpolargl": [
           {
            "marker": {
             "colorbar": {
              "outlinewidth": 0,
              "ticks": ""
             }
            },
            "type": "scatterpolargl"
           }
          ],
          "scatterternary": [
           {
            "marker": {
             "colorbar": {
              "outlinewidth": 0,
              "ticks": ""
             }
            },
            "type": "scatterternary"
           }
          ],
          "surface": [
           {
            "colorbar": {
             "outlinewidth": 0,
             "ticks": ""
            },
            "colorscale": [
             [
              0,
              "#0d0887"
             ],
             [
              0.1111111111111111,
              "#46039f"
             ],
             [
              0.2222222222222222,
              "#7201a8"
             ],
             [
              0.3333333333333333,
              "#9c179e"
             ],
             [
              0.4444444444444444,
              "#bd3786"
             ],
             [
              0.5555555555555556,
              "#d8576b"
             ],
             [
              0.6666666666666666,
              "#ed7953"
             ],
             [
              0.7777777777777778,
              "#fb9f3a"
             ],
             [
              0.8888888888888888,
              "#fdca26"
             ],
             [
              1,
              "#f0f921"
             ]
            ],
            "type": "surface"
           }
          ],
          "table": [
           {
            "cells": {
             "fill": {
              "color": "#EBF0F8"
             },
             "line": {
              "color": "white"
             }
            },
            "header": {
             "fill": {
              "color": "#C8D4E3"
             },
             "line": {
              "color": "white"
             }
            },
            "type": "table"
           }
          ]
         },
         "layout": {
          "annotationdefaults": {
           "arrowcolor": "#2a3f5f",
           "arrowhead": 0,
           "arrowwidth": 1
          },
          "autotypenumbers": "strict",
          "coloraxis": {
           "colorbar": {
            "outlinewidth": 0,
            "ticks": ""
           }
          },
          "colorscale": {
           "diverging": [
            [
             0,
             "#8e0152"
            ],
            [
             0.1,
             "#c51b7d"
            ],
            [
             0.2,
             "#de77ae"
            ],
            [
             0.3,
             "#f1b6da"
            ],
            [
             0.4,
             "#fde0ef"
            ],
            [
             0.5,
             "#f7f7f7"
            ],
            [
             0.6,
             "#e6f5d0"
            ],
            [
             0.7,
             "#b8e186"
            ],
            [
             0.8,
             "#7fbc41"
            ],
            [
             0.9,
             "#4d9221"
            ],
            [
             1,
             "#276419"
            ]
           ],
           "sequential": [
            [
             0,
             "#0d0887"
            ],
            [
             0.1111111111111111,
             "#46039f"
            ],
            [
             0.2222222222222222,
             "#7201a8"
            ],
            [
             0.3333333333333333,
             "#9c179e"
            ],
            [
             0.4444444444444444,
             "#bd3786"
            ],
            [
             0.5555555555555556,
             "#d8576b"
            ],
            [
             0.6666666666666666,
             "#ed7953"
            ],
            [
             0.7777777777777778,
             "#fb9f3a"
            ],
            [
             0.8888888888888888,
             "#fdca26"
            ],
            [
             1,
             "#f0f921"
            ]
           ],
           "sequentialminus": [
            [
             0,
             "#0d0887"
            ],
            [
             0.1111111111111111,
             "#46039f"
            ],
            [
             0.2222222222222222,
             "#7201a8"
            ],
            [
             0.3333333333333333,
             "#9c179e"
            ],
            [
             0.4444444444444444,
             "#bd3786"
            ],
            [
             0.5555555555555556,
             "#d8576b"
            ],
            [
             0.6666666666666666,
             "#ed7953"
            ],
            [
             0.7777777777777778,
             "#fb9f3a"
            ],
            [
             0.8888888888888888,
             "#fdca26"
            ],
            [
             1,
             "#f0f921"
            ]
           ]
          },
          "colorway": [
           "#636efa",
           "#EF553B",
           "#00cc96",
           "#ab63fa",
           "#FFA15A",
           "#19d3f3",
           "#FF6692",
           "#B6E880",
           "#FF97FF",
           "#FECB52"
          ],
          "font": {
           "color": "#2a3f5f"
          },
          "geo": {
           "bgcolor": "white",
           "lakecolor": "white",
           "landcolor": "#E5ECF6",
           "showlakes": true,
           "showland": true,
           "subunitcolor": "white"
          },
          "hoverlabel": {
           "align": "left"
          },
          "hovermode": "closest",
          "mapbox": {
           "style": "light"
          },
          "paper_bgcolor": "white",
          "plot_bgcolor": "#E5ECF6",
          "polar": {
           "angularaxis": {
            "gridcolor": "white",
            "linecolor": "white",
            "ticks": ""
           },
           "bgcolor": "#E5ECF6",
           "radialaxis": {
            "gridcolor": "white",
            "linecolor": "white",
            "ticks": ""
           }
          },
          "scene": {
           "xaxis": {
            "backgroundcolor": "#E5ECF6",
            "gridcolor": "white",
            "gridwidth": 2,
            "linecolor": "white",
            "showbackground": true,
            "ticks": "",
            "zerolinecolor": "white"
           },
           "yaxis": {
            "backgroundcolor": "#E5ECF6",
            "gridcolor": "white",
            "gridwidth": 2,
            "linecolor": "white",
            "showbackground": true,
            "ticks": "",
            "zerolinecolor": "white"
           },
           "zaxis": {
            "backgroundcolor": "#E5ECF6",
            "gridcolor": "white",
            "gridwidth": 2,
            "linecolor": "white",
            "showbackground": true,
            "ticks": "",
            "zerolinecolor": "white"
           }
          },
          "shapedefaults": {
           "line": {
            "color": "#2a3f5f"
           }
          },
          "ternary": {
           "aaxis": {
            "gridcolor": "white",
            "linecolor": "white",
            "ticks": ""
           },
           "baxis": {
            "gridcolor": "white",
            "linecolor": "white",
            "ticks": ""
           },
           "bgcolor": "#E5ECF6",
           "caxis": {
            "gridcolor": "white",
            "linecolor": "white",
            "ticks": ""
           }
          },
          "title": {
           "x": 0.05
          },
          "xaxis": {
           "automargin": true,
           "gridcolor": "white",
           "linecolor": "white",
           "ticks": "",
           "title": {
            "standoff": 15
           },
           "zerolinecolor": "white",
           "zerolinewidth": 2
          },
          "yaxis": {
           "automargin": true,
           "gridcolor": "white",
           "linecolor": "white",
           "ticks": "",
           "title": {
            "standoff": 15
           },
           "zerolinecolor": "white",
           "zerolinewidth": 2
          }
         }
        },
        "xaxis": {
         "anchor": "y",
         "domain": [
          0,
          1
         ]
        },
        "yaxis": {
         "anchor": "x",
         "autorange": "reversed",
         "domain": [
          0,
          1
         ],
         "title": {
          "text": "Code"
         }
        }
       }
      }
     },
     "metadata": {},
     "output_type": "display_data"
    }
   ],
   "source": [
    "heatmap=px.imshow(df,text_auto=True,\n",
    "                  aspect=\"auto\")\n",
    "heatmap.show()"
   ]
  }
 ],
 "metadata": {
  "kernelspec": {
   "display_name": "Python 3",
   "language": "python",
   "name": "python3"
  },
  "language_info": {
   "codemirror_mode": {
    "name": "ipython",
    "version": 3
   },
   "file_extension": ".py",
   "mimetype": "text/x-python",
   "name": "python",
   "nbconvert_exporter": "python",
   "pygments_lexer": "ipython3",
   "version": "3.10.6"
  },
  "orig_nbformat": 4
 },
 "nbformat": 4,
 "nbformat_minor": 2
}
